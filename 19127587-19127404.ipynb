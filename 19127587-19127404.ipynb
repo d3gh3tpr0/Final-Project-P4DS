{
 "cells": [
  {
   "cell_type": "markdown",
   "metadata": {},
   "source": [
    "* ### Họ và tên và MSSV: \n",
    "- Trương Chí Toàn - 19127587\n",
    "- Phan Trung Hiếu - 19127404\n"
   ]
  },
  {
   "cell_type": "markdown",
   "metadata": {},
   "source": [
    "---"
   ]
  },
  {
   "cell_type": "markdown",
   "metadata": {},
   "source": [
    "## Import library"
   ]
  },
  {
   "cell_type": "code",
   "execution_count": 1,
   "metadata": {
    "scrolled": true
   },
   "outputs": [],
   "source": [
    "\n",
    "\n",
    "import pandas as pd\n",
    "import numpy as np\n",
    "import matplotlib.pyplot as plt\n",
    "\n",
    "\n",
    "import seaborn as sns\n",
    "\n",
    "import warnings\n",
    "warnings.simplefilter(\"ignore\")\n",
    "\n",
    "%matplotlib inline\n",
    "plt.style.use('seaborn-pastel')"
   ]
  },
  {
   "cell_type": "markdown",
   "metadata": {},
   "source": [
    "## Giới thiệu dữ liệu"
   ]
  },
  {
   "cell_type": "markdown",
   "metadata": {},
   "source": [
    "Nhóm em xin trình bày về phân tích dữ liệu về elo ranking của vận động viên tennis thuộc giải The Association of Tennis Professionals (ATP)"
   ]
  },
  {
   "cell_type": "markdown",
   "metadata": {},
   "source": [
    "- Dữ liệu <i>Tennis players ranking based on ELO scores</i> được lấy từ Kaggle tại [đây](https://www.kaggle.com/ramjasmaurya/tennis-players-ranking-based-on-elo-scores?fbclid=IwAR3ReUKj-X3uYBmS2LwP-R1Jc2tLyKSzkar5Y6jcqjXn0bm3XQEzfHQ8Zhg).\n",
    "\n",
    "- Theo thông tin về license mà tác giả đưa ra trên Kaggle, Ram Jas Maurya cho phép người sử dụng chia sẻ và tùy chỉnh dữ liệu."
   ]
  },
  {
   "cell_type": "code",
   "execution_count": 16,
   "metadata": {
    "scrolled": true
   },
   "outputs": [],
   "source": [
    "# Đọc file csv\n",
    "tennis_df = pd.read_csv('data.csv', index_col=[0])"
   ]
  },
  {
   "cell_type": "markdown",
   "metadata": {},
   "source": [
    "## Khám phá dữ liệu"
   ]
  },
  {
   "cell_type": "code",
   "execution_count": 17,
   "metadata": {
    "scrolled": true
   },
   "outputs": [
    {
     "data": {
      "text/html": [
       "<div>\n",
       "<style scoped>\n",
       "    .dataframe tbody tr th:only-of-type {\n",
       "        vertical-align: middle;\n",
       "    }\n",
       "\n",
       "    .dataframe tbody tr th {\n",
       "        vertical-align: top;\n",
       "    }\n",
       "\n",
       "    .dataframe thead th {\n",
       "        text-align: right;\n",
       "    }\n",
       "</style>\n",
       "<table border=\"1\" class=\"dataframe\">\n",
       "  <thead>\n",
       "    <tr style=\"text-align: right;\">\n",
       "      <th></th>\n",
       "      <th>Age</th>\n",
       "      <th>Elo</th>\n",
       "      <th>HardRaw</th>\n",
       "      <th>ClayRaw</th>\n",
       "      <th>GrassRaw</th>\n",
       "      <th>hard_court_elo_rating</th>\n",
       "      <th>clay_court_elo_rating</th>\n",
       "      <th>grass_court_elo_rating</th>\n",
       "      <th>Peak_Match</th>\n",
       "      <th>Peak_Age</th>\n",
       "      <th>Peak_Elo</th>\n",
       "      <th>Gender</th>\n",
       "      <th>Rank</th>\n",
       "    </tr>\n",
       "    <tr>\n",
       "      <th>Player</th>\n",
       "      <th></th>\n",
       "      <th></th>\n",
       "      <th></th>\n",
       "      <th></th>\n",
       "      <th></th>\n",
       "      <th></th>\n",
       "      <th></th>\n",
       "      <th></th>\n",
       "      <th></th>\n",
       "      <th></th>\n",
       "      <th></th>\n",
       "      <th></th>\n",
       "      <th></th>\n",
       "    </tr>\n",
       "  </thead>\n",
       "  <tbody>\n",
       "    <tr>\n",
       "      <th>Novak�Djokovic</th>\n",
       "      <td>34.5</td>\n",
       "      <td>2185.2</td>\n",
       "      <td>2068.0</td>\n",
       "      <td>2016.3</td>\n",
       "      <td>1942.4</td>\n",
       "      <td>2126.6</td>\n",
       "      <td>2100.8</td>\n",
       "      <td>2063.8</td>\n",
       "      <td>2016 Miami F</td>\n",
       "      <td>28.8</td>\n",
       "      <td>2470.0</td>\n",
       "      <td>Male</td>\n",
       "      <td>1</td>\n",
       "    </tr>\n",
       "    <tr>\n",
       "      <th>Daniil�Medvedev</th>\n",
       "      <td>25.9</td>\n",
       "      <td>2166.2</td>\n",
       "      <td>2095.3</td>\n",
       "      <td>1714.1</td>\n",
       "      <td>1723.4</td>\n",
       "      <td>2130.7</td>\n",
       "      <td>1940.1</td>\n",
       "      <td>1944.8</td>\n",
       "      <td>2022 Atp Cup RR</td>\n",
       "      <td>25.9</td>\n",
       "      <td>2175.1</td>\n",
       "      <td>Male</td>\n",
       "      <td>2</td>\n",
       "    </tr>\n",
       "    <tr>\n",
       "      <th>Alexander�Zverev</th>\n",
       "      <td>24.7</td>\n",
       "      <td>2141.3</td>\n",
       "      <td>2056.7</td>\n",
       "      <td>1999.1</td>\n",
       "      <td>1671.4</td>\n",
       "      <td>2099.0</td>\n",
       "      <td>2070.2</td>\n",
       "      <td>1906.4</td>\n",
       "      <td>2022 Atp Cup RR</td>\n",
       "      <td>24.7</td>\n",
       "      <td>2157.9</td>\n",
       "      <td>Male</td>\n",
       "      <td>3</td>\n",
       "    </tr>\n",
       "    <tr>\n",
       "      <th>Roger�Federer</th>\n",
       "      <td>39.9</td>\n",
       "      <td>2043.0</td>\n",
       "      <td>1936.7</td>\n",
       "      <td>1749.6</td>\n",
       "      <td>1813.4</td>\n",
       "      <td>1989.8</td>\n",
       "      <td>1896.3</td>\n",
       "      <td>1928.2</td>\n",
       "      <td>2007 Dubai F</td>\n",
       "      <td>25.6</td>\n",
       "      <td>2382.0</td>\n",
       "      <td>Male</td>\n",
       "      <td>4</td>\n",
       "    </tr>\n",
       "    <tr>\n",
       "      <th>Carlos�Alcaraz</th>\n",
       "      <td>18.5</td>\n",
       "      <td>2029.5</td>\n",
       "      <td>1906.3</td>\n",
       "      <td>1834.4</td>\n",
       "      <td>1441.4</td>\n",
       "      <td>1967.9</td>\n",
       "      <td>1932.0</td>\n",
       "      <td>1735.5</td>\n",
       "      <td>2021 NextGen Finals F</td>\n",
       "      <td>18.5</td>\n",
       "      <td>2029.5</td>\n",
       "      <td>Male</td>\n",
       "      <td>5</td>\n",
       "    </tr>\n",
       "  </tbody>\n",
       "</table>\n",
       "</div>"
      ],
      "text/plain": [
       "                   Age     Elo  HardRaw  ClayRaw  GrassRaw  \\\n",
       "Player                                                       \n",
       "Novak�Djokovic    34.5  2185.2   2068.0   2016.3    1942.4   \n",
       "Daniil�Medvedev   25.9  2166.2   2095.3   1714.1    1723.4   \n",
       "Alexander�Zverev  24.7  2141.3   2056.7   1999.1    1671.4   \n",
       "Roger�Federer     39.9  2043.0   1936.7   1749.6    1813.4   \n",
       "Carlos�Alcaraz    18.5  2029.5   1906.3   1834.4    1441.4   \n",
       "\n",
       "                  hard_court_elo_rating  clay_court_elo_rating  \\\n",
       "Player                                                           \n",
       "Novak�Djokovic                   2126.6                 2100.8   \n",
       "Daniil�Medvedev                  2130.7                 1940.1   \n",
       "Alexander�Zverev                 2099.0                 2070.2   \n",
       "Roger�Federer                    1989.8                 1896.3   \n",
       "Carlos�Alcaraz                   1967.9                 1932.0   \n",
       "\n",
       "                  grass_court_elo_rating             Peak_Match  Peak_Age  \\\n",
       "Player                                                                      \n",
       "Novak�Djokovic                    2063.8           2016 Miami F      28.8   \n",
       "Daniil�Medvedev                   1944.8        2022 Atp Cup RR      25.9   \n",
       "Alexander�Zverev                  1906.4        2022 Atp Cup RR      24.7   \n",
       "Roger�Federer                     1928.2           2007 Dubai F      25.6   \n",
       "Carlos�Alcaraz                    1735.5  2021 NextGen Finals F      18.5   \n",
       "\n",
       "                  Peak_Elo Gender  Rank  \n",
       "Player                                   \n",
       "Novak�Djokovic      2470.0   Male     1  \n",
       "Daniil�Medvedev     2175.1   Male     2  \n",
       "Alexander�Zverev    2157.9   Male     3  \n",
       "Roger�Federer       2382.0   Male     4  \n",
       "Carlos�Alcaraz      2029.5   Male     5  "
      ]
     },
     "execution_count": 17,
     "metadata": {},
     "output_type": "execute_result"
    }
   ],
   "source": [
    "tennis_df.head()"
   ]
  },
  {
   "cell_type": "markdown",
   "metadata": {},
   "source": [
    "# 2. Exploring data (often interleaved with preprocessing)"
   ]
  },
  {
   "cell_type": "markdown",
   "metadata": {},
   "source": [
    "## How many rows and how many columns?"
   ]
  },
  {
   "cell_type": "code",
   "execution_count": 4,
   "metadata": {
    "scrolled": true
   },
   "outputs": [
    {
     "name": "stdout",
     "output_type": "stream",
     "text": [
      "Number of rows: 783\n",
      "Number of columns: 13\n"
     ]
    }
   ],
   "source": [
    "print(\"Number of rows: %d\\nNumber of columns: %d\" % (tennis_df.shape))"
   ]
  },
  {
   "cell_type": "markdown",
   "metadata": {},
   "source": [
    "## What is the meaning of each row?"
   ]
  },
  {
   "cell_type": "markdown",
   "metadata": {},
   "source": [
    "Mỗi dòng là thông tin của một vận động viên"
   ]
  },
  {
   "cell_type": "markdown",
   "metadata": {},
   "source": [
    "## Are there duplicated rows?"
   ]
  },
  {
   "cell_type": "code",
   "execution_count": 5,
   "metadata": {},
   "outputs": [
    {
     "data": {
      "text/plain": [
       "False"
      ]
     },
     "execution_count": 5,
     "metadata": {},
     "output_type": "execute_result"
    }
   ],
   "source": [
    "have_duplicated_rows = (tennis_df.duplicated().any() == True)\n",
    "have_duplicated_rows"
   ]
  },
  {
   "cell_type": "markdown",
   "metadata": {},
   "source": [
    "## What is the meaning of each column?"
   ]
  },
  {
   "cell_type": "markdown",
   "metadata": {},
   "source": [
    "- Player: Tên vận động viên\n",
    "- Age: Tuổi của họ\n",
    "- Elo: Điểm elo tổng quát của họ (không tính loại sân)\n",
    "- HardRaw: Điểm elo khi thi đấu trên sân bê tông\n",
    "- ClayRaw: Điểm elo khi thi đấu trên sân đất\n",
    "- GrassRaw: Điểm elo khi thi đấu trên sân cỏ\n",
    "- Hard_court_elo_rating: Điểm trung bình của Elo tổng và Elo trên sân bê tông\n",
    "- Clay_court_elo_rating: Điểm trung bình của Elo tổng và Elo trên sân đất\n",
    "- Grass_court_elo_rating: Điểm trung bình của Elo tổng và Elo trên sân cỏ\n",
    "- Peak_Match: Giải đấu tham gia khi ở đỉnh cao nhất sự nghiệp\n",
    "- Peak_Age: Tuổi khi ở đỉnh cao nhất sự nghiệp\n",
    "- Peak_Elo: Elo khi ở đỉnh cao nhất sự nghiệp\n",
    "- Gender: Giới tính\n",
    "- Rank: Thứ hạng"
   ]
  },
  {
   "cell_type": "markdown",
   "metadata": {},
   "source": [
    "## What is the current data type of each column? Are there columns having inappropriate data types?"
   ]
  },
  {
   "cell_type": "code",
   "execution_count": 6,
   "metadata": {},
   "outputs": [
    {
     "data": {
      "text/plain": [
       "Age                       float64\n",
       "Elo                       float64\n",
       "HardRaw                   float64\n",
       "ClayRaw                   float64\n",
       "GrassRaw                  float64\n",
       "hard_court_elo_rating     float64\n",
       "clay_court_elo_rating     float64\n",
       "grass_court_elo_rating    float64\n",
       "Peak_Match                 object\n",
       "Peak_Age                  float64\n",
       "Peak_Elo                  float64\n",
       "Gender                     object\n",
       "Rank                        int64\n",
       "dtype: object"
      ]
     },
     "execution_count": 6,
     "metadata": {},
     "output_type": "execute_result"
    }
   ],
   "source": [
    "col_dtypes = tennis_df.dtypes\n",
    "col_dtypes"
   ]
  },
  {
   "cell_type": "markdown",
   "metadata": {},
   "source": [
    "Như ta thấy thì cột Peak_Match và Peak_Elo có type là object, nên giờ ta sẽ xem data types của 2 cột này là gì"
   ]
  },
  {
   "cell_type": "code",
   "execution_count": 7,
   "metadata": {},
   "outputs": [
    {
     "data": {
      "text/plain": [
       "({str}, {str})"
      ]
     },
     "execution_count": 7,
     "metadata": {},
     "output_type": "execute_result"
    }
   ],
   "source": [
    "def open_object_dtype(s):\n",
    "    dtypes = set()\n",
    "    dtypes.update(s.apply(lambda x:type(x)).unique())\n",
    "    return dtypes\n",
    "\n",
    "open_object_dtype(tennis_df['Peak_Match']),open_object_dtype(tennis_df['Gender'])"
   ]
  },
  {
   "cell_type": "markdown",
   "metadata": {},
   "source": [
    "Vậy cả 2 cột đều có dạng string"
   ]
  },
  {
   "cell_type": "markdown",
   "metadata": {},
   "source": [
    "## With each numerical column, how are values distributed?"
   ]
  },
  {
   "cell_type": "code",
   "execution_count": 8,
   "metadata": {},
   "outputs": [
    {
     "data": {
      "text/html": [
       "<div>\n",
       "<style scoped>\n",
       "    .dataframe tbody tr th:only-of-type {\n",
       "        vertical-align: middle;\n",
       "    }\n",
       "\n",
       "    .dataframe tbody tr th {\n",
       "        vertical-align: top;\n",
       "    }\n",
       "\n",
       "    .dataframe thead th {\n",
       "        text-align: right;\n",
       "    }\n",
       "</style>\n",
       "<table border=\"1\" class=\"dataframe\">\n",
       "  <thead>\n",
       "    <tr style=\"text-align: right;\">\n",
       "      <th></th>\n",
       "      <th>Age</th>\n",
       "      <th>Elo</th>\n",
       "      <th>HardRaw</th>\n",
       "      <th>ClayRaw</th>\n",
       "      <th>GrassRaw</th>\n",
       "      <th>hard_court_elo_rating</th>\n",
       "      <th>clay_court_elo_rating</th>\n",
       "      <th>grass_court_elo_rating</th>\n",
       "      <th>Peak_Age</th>\n",
       "      <th>Peak_Elo</th>\n",
       "      <th>Rank</th>\n",
       "    </tr>\n",
       "  </thead>\n",
       "  <tbody>\n",
       "    <tr>\n",
       "      <th>missing_ratio</th>\n",
       "      <td>0.0</td>\n",
       "      <td>0.0</td>\n",
       "      <td>0.63857</td>\n",
       "      <td>0.383142</td>\n",
       "      <td>20.178799</td>\n",
       "      <td>0.0</td>\n",
       "      <td>0.0</td>\n",
       "      <td>0.0</td>\n",
       "      <td>0.0</td>\n",
       "      <td>0.0</td>\n",
       "      <td>0.0</td>\n",
       "    </tr>\n",
       "    <tr>\n",
       "      <th>min</th>\n",
       "      <td>15.5</td>\n",
       "      <td>1032.1</td>\n",
       "      <td>910.20000</td>\n",
       "      <td>908.500000</td>\n",
       "      <td>995.300000</td>\n",
       "      <td>1010.3</td>\n",
       "      <td>970.3</td>\n",
       "      <td>1124.1</td>\n",
       "      <td>15.0</td>\n",
       "      <td>1169.0</td>\n",
       "      <td>1.0</td>\n",
       "    </tr>\n",
       "    <tr>\n",
       "      <th>max</th>\n",
       "      <td>42.6</td>\n",
       "      <td>2185.2</td>\n",
       "      <td>2095.30000</td>\n",
       "      <td>2016.300000</td>\n",
       "      <td>1942.400000</td>\n",
       "      <td>2130.7</td>\n",
       "      <td>2100.8</td>\n",
       "      <td>2063.8</td>\n",
       "      <td>35.1</td>\n",
       "      <td>2470.0</td>\n",
       "      <td>396.0</td>\n",
       "    </tr>\n",
       "  </tbody>\n",
       "</table>\n",
       "</div>"
      ],
      "text/plain": [
       "                Age     Elo     HardRaw      ClayRaw     GrassRaw  \\\n",
       "missing_ratio   0.0     0.0     0.63857     0.383142    20.178799   \n",
       "min            15.5  1032.1   910.20000   908.500000   995.300000   \n",
       "max            42.6  2185.2  2095.30000  2016.300000  1942.400000   \n",
       "\n",
       "               hard_court_elo_rating  clay_court_elo_rating  \\\n",
       "missing_ratio                    0.0                    0.0   \n",
       "min                           1010.3                  970.3   \n",
       "max                           2130.7                 2100.8   \n",
       "\n",
       "               grass_court_elo_rating  Peak_Age  Peak_Elo   Rank  \n",
       "missing_ratio                     0.0       0.0       0.0    0.0  \n",
       "min                            1124.1      15.0    1169.0    1.0  \n",
       "max                            2063.8      35.1    2470.0  396.0  "
      ]
     },
     "execution_count": 8,
     "metadata": {},
     "output_type": "execute_result"
    }
   ],
   "source": [
    "num_col = tennis_df.columns.drop(['Peak_Match','Gender'])\n",
    "def missing_ratio(col):\n",
    "    return col.isna().mean() * 100\n",
    "nume_col_player_df = tennis_df[num_col].agg([missing_ratio,pd.Series.min,pd.Series.max])\n",
    "nume_col_player_df\n"
   ]
  },
  {
   "cell_type": "markdown",
   "metadata": {},
   "source": [
    "### Are they abnormal?"
   ]
  },
  {
   "cell_type": "markdown",
   "metadata": {},
   "source": [
    "3 Cột HardRaw, ClayRaw,GrassRaw đều bị thiếu dữ liệu, nhưng mà 3 cột hard_court_elo_rating, clay_court_elo_rating, grass_court_elo_rating tương ứng thì lại không bị thiếu"
   ]
  },
  {
   "cell_type": "markdown",
   "metadata": {},
   "source": [
    "## With each categorical column, how are values distributed?"
   ]
  },
  {
   "cell_type": "code",
   "execution_count": 9,
   "metadata": {},
   "outputs": [
    {
     "data": {
      "text/html": [
       "<div>\n",
       "<style scoped>\n",
       "    .dataframe tbody tr th:only-of-type {\n",
       "        vertical-align: middle;\n",
       "    }\n",
       "\n",
       "    .dataframe tbody tr th {\n",
       "        vertical-align: top;\n",
       "    }\n",
       "\n",
       "    .dataframe thead th {\n",
       "        text-align: right;\n",
       "    }\n",
       "</style>\n",
       "<table border=\"1\" class=\"dataframe\">\n",
       "  <thead>\n",
       "    <tr style=\"text-align: right;\">\n",
       "      <th></th>\n",
       "      <th>Peak_Match</th>\n",
       "      <th>Gender</th>\n",
       "    </tr>\n",
       "  </thead>\n",
       "  <tbody>\n",
       "    <tr>\n",
       "      <th>missing_ratio</th>\n",
       "      <td>0.0</td>\n",
       "      <td>0.0</td>\n",
       "    </tr>\n",
       "    <tr>\n",
       "      <th>num_diff_vals</th>\n",
       "      <td>722</td>\n",
       "      <td>2</td>\n",
       "    </tr>\n",
       "    <tr>\n",
       "      <th>diff_vals</th>\n",
       "      <td>[2021 Indian Wells Qual, 2021 Roland Garros Qu...</td>\n",
       "      <td>[Female, Male]</td>\n",
       "    </tr>\n",
       "  </tbody>\n",
       "</table>\n",
       "</div>"
      ],
      "text/plain": [
       "                                                      Peak_Match  \\\n",
       "missing_ratio                                                0.0   \n",
       "num_diff_vals                                                722   \n",
       "diff_vals      [2021 Indian Wells Qual, 2021 Roland Garros Qu...   \n",
       "\n",
       "                       Gender  \n",
       "missing_ratio             0.0  \n",
       "num_diff_vals               2  \n",
       "diff_vals      [Female, Male]  "
      ]
     },
     "execution_count": 9,
     "metadata": {},
     "output_type": "execute_result"
    }
   ],
   "source": [
    "cate_col = ['Peak_Match','Gender']\n",
    "def num_diff_vals(col):\n",
    "    return len(col.value_counts())\n",
    "def diff_vals(col):\n",
    "    return col.value_counts().index.unique().to_numpy()\n",
    "\n",
    "cate_col_player_df = tennis_df[cate_col].agg([missing_ratio,num_diff_vals,diff_vals])\n",
    "cate_col_player_df"
   ]
  },
  {
   "cell_type": "markdown",
   "metadata": {},
   "source": [
    "### Are they abnormal?"
   ]
  },
  {
   "cell_type": "markdown",
   "metadata": {},
   "source": [
    "Theo em thì hoàn toàn bình thường"
   ]
  },
  {
   "cell_type": "markdown",
   "metadata": {},
   "source": [
    "# 3. Asking meaningful questions\n"
   ]
  },
  {
   "cell_type": "markdown",
   "metadata": {},
   "source": [
    "###### - Giới tính có ảnh hưởng tới tuổi đỉnh cao hay không?\n",
    "- Giới tính có ảnh hưởng tới trình độ người chơi không?\n",
    "- Loại sân khác nhau có ảnh hưởng gì tới trình độ người chơi hay không?\n",
    "- Ở trong khoảng độ tuổi nào thì có nhiều vận động viên đạt đỉnh cao nhất?"
   ]
  },
  {
   "cell_type": "markdown",
   "metadata": {},
   "source": [
    "# 4. Preprocessing + analyzing data to answer each question"
   ]
  },
  {
   "cell_type": "markdown",
   "metadata": {},
   "source": [
    "## Does it need to have preprocessing step, and if yes, how does your group preprocess?"
   ]
  },
  {
   "cell_type": "markdown",
   "metadata": {},
   "source": [
    "Nhóm em sẽ thực hiện tiền xử lý dữ liệu như là:\n",
    "- Điền lại vào các ô bị trống bằng cách từ công thức Elo = (HardRaw + hard_court_elo_rating)/2 em sẽ truy ngược ra lại giá trị bị thiếu\n",
    "- Chia dataframe thành 2 dataframe con, chia ra thành nam và nữ"
   ]
  },
  {
   "cell_type": "markdown",
   "metadata": {},
   "source": [
    "#### Điền giá trị thiếu"
   ]
  },
  {
   "cell_type": "code",
   "execution_count": 10,
   "metadata": {},
   "outputs": [
    {
     "data": {
      "text/html": [
       "<div>\n",
       "<style scoped>\n",
       "    .dataframe tbody tr th:only-of-type {\n",
       "        vertical-align: middle;\n",
       "    }\n",
       "\n",
       "    .dataframe tbody tr th {\n",
       "        vertical-align: top;\n",
       "    }\n",
       "\n",
       "    .dataframe thead th {\n",
       "        text-align: right;\n",
       "    }\n",
       "</style>\n",
       "<table border=\"1\" class=\"dataframe\">\n",
       "  <thead>\n",
       "    <tr style=\"text-align: right;\">\n",
       "      <th></th>\n",
       "      <th>Age</th>\n",
       "      <th>Elo</th>\n",
       "      <th>HardRaw</th>\n",
       "      <th>ClayRaw</th>\n",
       "      <th>GrassRaw</th>\n",
       "      <th>hard_court_elo_rating</th>\n",
       "      <th>clay_court_elo_rating</th>\n",
       "      <th>grass_court_elo_rating</th>\n",
       "      <th>Peak_Age</th>\n",
       "      <th>Peak_Elo</th>\n",
       "      <th>Rank</th>\n",
       "    </tr>\n",
       "  </thead>\n",
       "  <tbody>\n",
       "    <tr>\n",
       "      <th>missing_ratio</th>\n",
       "      <td>0.0</td>\n",
       "      <td>0.0</td>\n",
       "      <td>0.0</td>\n",
       "      <td>0.0</td>\n",
       "      <td>0.0</td>\n",
       "      <td>0.0</td>\n",
       "      <td>0.0</td>\n",
       "      <td>0.0</td>\n",
       "      <td>0.0</td>\n",
       "      <td>0.0</td>\n",
       "      <td>0.0</td>\n",
       "    </tr>\n",
       "    <tr>\n",
       "      <th>min</th>\n",
       "      <td>15.5</td>\n",
       "      <td>1032.1</td>\n",
       "      <td>910.2</td>\n",
       "      <td>908.5</td>\n",
       "      <td>995.3</td>\n",
       "      <td>1010.3</td>\n",
       "      <td>970.3</td>\n",
       "      <td>1124.1</td>\n",
       "      <td>15.0</td>\n",
       "      <td>1169.0</td>\n",
       "      <td>1.0</td>\n",
       "    </tr>\n",
       "    <tr>\n",
       "      <th>max</th>\n",
       "      <td>42.6</td>\n",
       "      <td>2185.2</td>\n",
       "      <td>2095.3</td>\n",
       "      <td>2016.3</td>\n",
       "      <td>1942.4</td>\n",
       "      <td>2130.7</td>\n",
       "      <td>2100.8</td>\n",
       "      <td>2063.8</td>\n",
       "      <td>35.1</td>\n",
       "      <td>2470.0</td>\n",
       "      <td>396.0</td>\n",
       "    </tr>\n",
       "  </tbody>\n",
       "</table>\n",
       "</div>"
      ],
      "text/plain": [
       "                Age     Elo  HardRaw  ClayRaw  GrassRaw  \\\n",
       "missing_ratio   0.0     0.0      0.0      0.0       0.0   \n",
       "min            15.5  1032.1    910.2    908.5     995.3   \n",
       "max            42.6  2185.2   2095.3   2016.3    1942.4   \n",
       "\n",
       "               hard_court_elo_rating  clay_court_elo_rating  \\\n",
       "missing_ratio                    0.0                    0.0   \n",
       "min                           1010.3                  970.3   \n",
       "max                           2130.7                 2100.8   \n",
       "\n",
       "               grass_court_elo_rating  Peak_Age  Peak_Elo   Rank  \n",
       "missing_ratio                     0.0       0.0       0.0    0.0  \n",
       "min                            1124.1      15.0    1169.0    1.0  \n",
       "max                            2063.8      35.1    2470.0  396.0  "
      ]
     },
     "execution_count": 10,
     "metadata": {},
     "output_type": "execute_result"
    }
   ],
   "source": [
    "def fill_missing_value(col):\n",
    "    index_of_missing_value = np.argwhere(tennis_df[col].isnull().to_numpy()==True)\n",
    "    index_of_need_col = int(np.argwhere(tennis_df.columns==col))\n",
    "    for index in index_of_missing_value:\n",
    "        tennis_df[col].iloc[index] = tennis_df.iloc[index,index_of_need_col+3] * 2 - tennis_df.Elo[index]\n",
    "    \n",
    "fill_missing_value('HardRaw')\n",
    "fill_missing_value('ClayRaw')\n",
    "fill_missing_value('GrassRaw')\n",
    "tennis_df[num_col].agg([missing_ratio,pd.Series.min,pd.Series.max])"
   ]
  },
  {
   "cell_type": "markdown",
   "metadata": {},
   "source": [
    "#### Chia dataframe làm 2 phần, nam và nữ"
   ]
  },
  {
   "cell_type": "code",
   "execution_count": 34,
   "metadata": {},
   "outputs": [
    {
     "data": {
      "text/html": [
       "<div>\n",
       "<style scoped>\n",
       "    .dataframe tbody tr th:only-of-type {\n",
       "        vertical-align: middle;\n",
       "    }\n",
       "\n",
       "    .dataframe tbody tr th {\n",
       "        vertical-align: top;\n",
       "    }\n",
       "\n",
       "    .dataframe thead th {\n",
       "        text-align: right;\n",
       "    }\n",
       "</style>\n",
       "<table border=\"1\" class=\"dataframe\">\n",
       "  <thead>\n",
       "    <tr style=\"text-align: right;\">\n",
       "      <th></th>\n",
       "      <th>Age</th>\n",
       "      <th>Elo</th>\n",
       "      <th>HardRaw</th>\n",
       "      <th>ClayRaw</th>\n",
       "      <th>GrassRaw</th>\n",
       "      <th>hard_court_elo_rating</th>\n",
       "      <th>clay_court_elo_rating</th>\n",
       "      <th>grass_court_elo_rating</th>\n",
       "      <th>Peak_Match</th>\n",
       "      <th>Peak_Age</th>\n",
       "      <th>Peak_Elo</th>\n",
       "      <th>Gender</th>\n",
       "      <th>Rank</th>\n",
       "    </tr>\n",
       "    <tr>\n",
       "      <th>Player</th>\n",
       "      <th></th>\n",
       "      <th></th>\n",
       "      <th></th>\n",
       "      <th></th>\n",
       "      <th></th>\n",
       "      <th></th>\n",
       "      <th></th>\n",
       "      <th></th>\n",
       "      <th></th>\n",
       "      <th></th>\n",
       "      <th></th>\n",
       "      <th></th>\n",
       "      <th></th>\n",
       "    </tr>\n",
       "  </thead>\n",
       "  <tbody>\n",
       "    <tr>\n",
       "      <th>Novak�Djokovic</th>\n",
       "      <td>34.5</td>\n",
       "      <td>2185.2</td>\n",
       "      <td>2068.0</td>\n",
       "      <td>2016.3</td>\n",
       "      <td>1942.4</td>\n",
       "      <td>2126.6</td>\n",
       "      <td>2100.8</td>\n",
       "      <td>2063.8</td>\n",
       "      <td>2016 Miami F</td>\n",
       "      <td>28.8</td>\n",
       "      <td>2470.0</td>\n",
       "      <td>Male</td>\n",
       "      <td>1</td>\n",
       "    </tr>\n",
       "    <tr>\n",
       "      <th>Daniil�Medvedev</th>\n",
       "      <td>25.9</td>\n",
       "      <td>2166.2</td>\n",
       "      <td>2095.3</td>\n",
       "      <td>1714.1</td>\n",
       "      <td>1723.4</td>\n",
       "      <td>2130.7</td>\n",
       "      <td>1940.1</td>\n",
       "      <td>1944.8</td>\n",
       "      <td>2022 Atp Cup RR</td>\n",
       "      <td>25.9</td>\n",
       "      <td>2175.1</td>\n",
       "      <td>Male</td>\n",
       "      <td>2</td>\n",
       "    </tr>\n",
       "    <tr>\n",
       "      <th>Alexander�Zverev</th>\n",
       "      <td>24.7</td>\n",
       "      <td>2141.3</td>\n",
       "      <td>2056.7</td>\n",
       "      <td>1999.1</td>\n",
       "      <td>1671.4</td>\n",
       "      <td>2099.0</td>\n",
       "      <td>2070.2</td>\n",
       "      <td>1906.4</td>\n",
       "      <td>2022 Atp Cup RR</td>\n",
       "      <td>24.7</td>\n",
       "      <td>2157.9</td>\n",
       "      <td>Male</td>\n",
       "      <td>3</td>\n",
       "    </tr>\n",
       "    <tr>\n",
       "      <th>Roger�Federer</th>\n",
       "      <td>39.9</td>\n",
       "      <td>2043.0</td>\n",
       "      <td>1936.7</td>\n",
       "      <td>1749.6</td>\n",
       "      <td>1813.4</td>\n",
       "      <td>1989.8</td>\n",
       "      <td>1896.3</td>\n",
       "      <td>1928.2</td>\n",
       "      <td>2007 Dubai F</td>\n",
       "      <td>25.6</td>\n",
       "      <td>2382.0</td>\n",
       "      <td>Male</td>\n",
       "      <td>4</td>\n",
       "    </tr>\n",
       "    <tr>\n",
       "      <th>Carlos�Alcaraz</th>\n",
       "      <td>18.5</td>\n",
       "      <td>2029.5</td>\n",
       "      <td>1906.3</td>\n",
       "      <td>1834.4</td>\n",
       "      <td>1441.4</td>\n",
       "      <td>1967.9</td>\n",
       "      <td>1932.0</td>\n",
       "      <td>1735.5</td>\n",
       "      <td>2021 NextGen Finals F</td>\n",
       "      <td>18.5</td>\n",
       "      <td>2029.5</td>\n",
       "      <td>Male</td>\n",
       "      <td>5</td>\n",
       "    </tr>\n",
       "    <tr>\n",
       "      <th>...</th>\n",
       "      <td>...</td>\n",
       "      <td>...</td>\n",
       "      <td>...</td>\n",
       "      <td>...</td>\n",
       "      <td>...</td>\n",
       "      <td>...</td>\n",
       "      <td>...</td>\n",
       "      <td>...</td>\n",
       "      <td>...</td>\n",
       "      <td>...</td>\n",
       "      <td>...</td>\n",
       "      <td>...</td>\n",
       "      <td>...</td>\n",
       "    </tr>\n",
       "    <tr>\n",
       "      <th>Daniel�Dutra�Da�Silva</th>\n",
       "      <td>33.5</td>\n",
       "      <td>1233.8</td>\n",
       "      <td>1089.8</td>\n",
       "      <td>1242.9</td>\n",
       "      <td>NaN</td>\n",
       "      <td>1161.8</td>\n",
       "      <td>1238.4</td>\n",
       "      <td>1316.9</td>\n",
       "      <td>2008 Seville CH R32</td>\n",
       "      <td>20.2</td>\n",
       "      <td>1482.5</td>\n",
       "      <td>Male</td>\n",
       "      <td>383</td>\n",
       "    </tr>\n",
       "    <tr>\n",
       "      <th>Shintaro�Mochizuki</th>\n",
       "      <td>18.5</td>\n",
       "      <td>1214.1</td>\n",
       "      <td>1163.4</td>\n",
       "      <td>1153.5</td>\n",
       "      <td>1408.0</td>\n",
       "      <td>1188.8</td>\n",
       "      <td>1183.8</td>\n",
       "      <td>1311.1</td>\n",
       "      <td>2021 Wimbledon Qual</td>\n",
       "      <td>18.1</td>\n",
       "      <td>1341.6</td>\n",
       "      <td>Male</td>\n",
       "      <td>384</td>\n",
       "    </tr>\n",
       "    <tr>\n",
       "      <th>Nick�Chappell</th>\n",
       "      <td>29.3</td>\n",
       "      <td>1174.0</td>\n",
       "      <td>1212.6</td>\n",
       "      <td>1078.1</td>\n",
       "      <td>1355.2</td>\n",
       "      <td>1193.3</td>\n",
       "      <td>1126.0</td>\n",
       "      <td>1264.6</td>\n",
       "      <td>2021 Potchefstroom 1 CH QF</td>\n",
       "      <td>28.4</td>\n",
       "      <td>1444.1</td>\n",
       "      <td>Male</td>\n",
       "      <td>385</td>\n",
       "    </tr>\n",
       "    <tr>\n",
       "      <th>Vladyslav�Orlov</th>\n",
       "      <td>26.6</td>\n",
       "      <td>1135.1</td>\n",
       "      <td>1043.1</td>\n",
       "      <td>1227.0</td>\n",
       "      <td>NaN</td>\n",
       "      <td>1089.1</td>\n",
       "      <td>1181.1</td>\n",
       "      <td>1267.6</td>\n",
       "      <td>2020 Bengaluru CH R64</td>\n",
       "      <td>24.7</td>\n",
       "      <td>1233.4</td>\n",
       "      <td>Male</td>\n",
       "      <td>386</td>\n",
       "    </tr>\n",
       "    <tr>\n",
       "      <th>Alexander�Erler</th>\n",
       "      <td>24.1</td>\n",
       "      <td>1087.3</td>\n",
       "      <td>1084.9</td>\n",
       "      <td>1083.5</td>\n",
       "      <td>NaN</td>\n",
       "      <td>1086.1</td>\n",
       "      <td>1085.4</td>\n",
       "      <td>1243.6</td>\n",
       "      <td>2014 Kitzbuhel Qual</td>\n",
       "      <td>16.8</td>\n",
       "      <td>1202.3</td>\n",
       "      <td>Male</td>\n",
       "      <td>387</td>\n",
       "    </tr>\n",
       "  </tbody>\n",
       "</table>\n",
       "<p>387 rows × 13 columns</p>\n",
       "</div>"
      ],
      "text/plain": [
       "                        Age     Elo  HardRaw  ClayRaw  GrassRaw  \\\n",
       "Player                                                            \n",
       "Novak�Djokovic         34.5  2185.2   2068.0   2016.3    1942.4   \n",
       "Daniil�Medvedev        25.9  2166.2   2095.3   1714.1    1723.4   \n",
       "Alexander�Zverev       24.7  2141.3   2056.7   1999.1    1671.4   \n",
       "Roger�Federer          39.9  2043.0   1936.7   1749.6    1813.4   \n",
       "Carlos�Alcaraz         18.5  2029.5   1906.3   1834.4    1441.4   \n",
       "...                     ...     ...      ...      ...       ...   \n",
       "Daniel�Dutra�Da�Silva  33.5  1233.8   1089.8   1242.9       NaN   \n",
       "Shintaro�Mochizuki     18.5  1214.1   1163.4   1153.5    1408.0   \n",
       "Nick�Chappell          29.3  1174.0   1212.6   1078.1    1355.2   \n",
       "Vladyslav�Orlov        26.6  1135.1   1043.1   1227.0       NaN   \n",
       "Alexander�Erler        24.1  1087.3   1084.9   1083.5       NaN   \n",
       "\n",
       "                       hard_court_elo_rating  clay_court_elo_rating  \\\n",
       "Player                                                                \n",
       "Novak�Djokovic                        2126.6                 2100.8   \n",
       "Daniil�Medvedev                       2130.7                 1940.1   \n",
       "Alexander�Zverev                      2099.0                 2070.2   \n",
       "Roger�Federer                         1989.8                 1896.3   \n",
       "Carlos�Alcaraz                        1967.9                 1932.0   \n",
       "...                                      ...                    ...   \n",
       "Daniel�Dutra�Da�Silva                 1161.8                 1238.4   \n",
       "Shintaro�Mochizuki                    1188.8                 1183.8   \n",
       "Nick�Chappell                         1193.3                 1126.0   \n",
       "Vladyslav�Orlov                       1089.1                 1181.1   \n",
       "Alexander�Erler                       1086.1                 1085.4   \n",
       "\n",
       "                       grass_court_elo_rating                  Peak_Match  \\\n",
       "Player                                                                      \n",
       "Novak�Djokovic                         2063.8                2016 Miami F   \n",
       "Daniil�Medvedev                        1944.8             2022 Atp Cup RR   \n",
       "Alexander�Zverev                       1906.4             2022 Atp Cup RR   \n",
       "Roger�Federer                          1928.2                2007 Dubai F   \n",
       "Carlos�Alcaraz                         1735.5       2021 NextGen Finals F   \n",
       "...                                       ...                         ...   \n",
       "Daniel�Dutra�Da�Silva                  1316.9         2008 Seville CH R32   \n",
       "Shintaro�Mochizuki                     1311.1         2021 Wimbledon Qual   \n",
       "Nick�Chappell                          1264.6  2021 Potchefstroom 1 CH QF   \n",
       "Vladyslav�Orlov                        1267.6       2020 Bengaluru CH R64   \n",
       "Alexander�Erler                        1243.6         2014 Kitzbuhel Qual   \n",
       "\n",
       "                       Peak_Age  Peak_Elo Gender  Rank  \n",
       "Player                                                  \n",
       "Novak�Djokovic             28.8    2470.0   Male     1  \n",
       "Daniil�Medvedev            25.9    2175.1   Male     2  \n",
       "Alexander�Zverev           24.7    2157.9   Male     3  \n",
       "Roger�Federer              25.6    2382.0   Male     4  \n",
       "Carlos�Alcaraz             18.5    2029.5   Male     5  \n",
       "...                         ...       ...    ...   ...  \n",
       "Daniel�Dutra�Da�Silva      20.2    1482.5   Male   383  \n",
       "Shintaro�Mochizuki         18.1    1341.6   Male   384  \n",
       "Nick�Chappell              28.4    1444.1   Male   385  \n",
       "Vladyslav�Orlov            24.7    1233.4   Male   386  \n",
       "Alexander�Erler            16.8    1202.3   Male   387  \n",
       "\n",
       "[387 rows x 13 columns]"
      ]
     },
     "execution_count": 34,
     "metadata": {},
     "output_type": "execute_result"
    }
   ],
   "source": [
    "male = tennis_df.Gender.loc[lambda x: x == 'Male'].index[-1]\n",
    "female = tennis_df.Gender.loc[lambda x: x == 'Female'].index[0]\n",
    "tennis_male = tennis_df.loc[:male]\n",
    "tennis_female = tennis_df.loc[female:]\n",
    "tennis_male"
   ]
  },
  {
   "cell_type": "code",
   "execution_count": null,
   "metadata": {},
   "outputs": [],
   "source": [
    "tennis_temp = tennis_df.copy()\n",
    "tennis_temp.Age = tennis_temp.Age.apply(lambda x:round(x))\n",
    "tennis_temp\n"
   ]
  },
  {
   "cell_type": "markdown",
   "metadata": {},
   "source": [
    "## Tiền xử lí dữ liệu"
   ]
  },
  {
   "cell_type": "markdown",
   "metadata": {},
   "source": [
    "#### Loại bỏ các cột không cần thiết"
   ]
  },
  {
   "cell_type": "markdown",
   "metadata": {},
   "source": [
    "Đầu tiên cần loại bỏ bớt các cột không cần thiết trong bài phân tích này dựa trên những cột được liệt kê phía trên.\n",
    "\n",
    "Như quan sát, những cột như Joined, Loaned From, Contract Valid Until, Release Clause và cùng với LS, ST, RS, LW, LF, CF, RF, RW, LAM, CAM, RAM, LM, LCM, CM, RCM, RM, LWB, LDM, CDM, RDM, RWB, LB, LCB, CB, RCB, RB là những cột có giá trị thiếu rất nhiều, và những cột này cũng không cần thiết trong quá trình phân tích cho nên ta sẽ loại bỏ nó và đồng thời cũng loại bỏ một số cột không cần thiết khác."
   ]
  },
  {
   "cell_type": "markdown",
   "metadata": {},
   "source": [
    "Dưới đây là mô tả về các cột được sử dụng trong phân tích của dữ liệu FIFA 19 complete player:\n",
    "\n",
    "+ ID: chỉ số định danh trên FIFA\n",
    "\n",
    "+ Name: tên cầu thủ.\n",
    "\n",
    "+ Age: tuổi cầu thủ.\n",
    "\n",
    "+ Nationality: quốc tịch cầu thủ.\n",
    "\n",
    "+ Club: câu lạc bộ đang thi đấu.\n",
    "\n",
    "+ Value: giá trị chuyển nhượng.\n",
    "\n",
    "+ Wage: lương của cầu thủ.\n",
    "\n",
    "+ Overall: đánh giá tổng quan.\n",
    "\n",
    "+ Potential: tiềm năng.\n",
    "\n",
    "+ Position: vị trí trong sân.\n",
    "\n",
    "+ Crossing, Finishing, HeadingAccuracy, ShortPassing, Volleys: các chỉ số về tấn công.\n",
    "\n",
    "+ Dribbling, Curve, FKAccuracy, LongPassing, BallControl: các chỉ số về kĩ năng.\n",
    "\n",
    "+ Acceleration, SprintSpeed, Agility, Reactions, Balance: các chỉ số về di chuyển.\n",
    "\n",
    "+ ShotPower, Jumping, Stamina, Strength, LongShots: các chỉ số về sức mạnh.\n",
    "\n",
    "+ Aggression, Interceptions, Positioning, Vision, Penalties, Composure: các chỉ số về tinh thần.\n",
    "\n",
    "+ Marking, StandingTackle, SlidingTackle : các chỉ số về phòng thủ.\n",
    "\n",
    "+ GKKicking, GKPositioning, GKReflexes, GKDiving, GKHandling: các chỉ số về giữ lưới thủ môn."
   ]
  },
  {
   "cell_type": "code",
   "execution_count": null,
   "metadata": {},
   "outputs": [],
   "source": [
    "football_df = football_df[[\n",
    "    'ID', 'Name', 'Age', 'Nationality', 'Club', 'Value', 'Wage', 'Overall', 'Potential', 'Position',\n",
    "    'Crossing', 'Finishing', 'HeadingAccuracy', 'ShortPassing', 'Volleys',\n",
    "    'Dribbling', 'Curve', 'FKAccuracy', 'LongPassing', 'BallControl',\n",
    "    'Acceleration', 'SprintSpeed', 'Agility', 'Reactions', 'Balance', \n",
    "    'ShotPower', 'Jumping', 'Stamina', 'Strength', 'LongShots',\n",
    "    'Aggression', 'Interceptions', 'Positioning', 'Vision', 'Penalties', 'Composure',\n",
    "    'Marking', 'StandingTackle', 'SlidingTackle',\n",
    "    'GKKicking', 'GKPositioning', 'GKReflexes', 'GKDiving', 'GKHandling'\n",
    "]]"
   ]
  },
  {
   "cell_type": "code",
   "execution_count": null,
   "metadata": {},
   "outputs": [],
   "source": [
    "print(\"Number of rows: %d\\nNumber of columns: %d\" % (football_df.shape))"
   ]
  },
  {
   "cell_type": "markdown",
   "metadata": {},
   "source": [
    "#### Xử lí các giá trị bị thiếu"
   ]
  },
  {
   "cell_type": "markdown",
   "metadata": {},
   "source": [
    "Đối với những dòng có Club là NaN, có thể là những cầu thủ này chưa có câu lạc bộ cho nên ta sẽ điền 'No Club' vào."
   ]
  },
  {
   "cell_type": "code",
   "execution_count": null,
   "metadata": {},
   "outputs": [],
   "source": [
    "football_df['Club'].fillna('No Club', inplace=True)"
   ]
  },
  {
   "cell_type": "markdown",
   "metadata": {},
   "source": [
    "Liệt kê các dòng còn giá trị thiếu để xem xét xử lí."
   ]
  },
  {
   "cell_type": "code",
   "execution_count": null,
   "metadata": {},
   "outputs": [],
   "source": [
    "football_df[football_df.isnull().any(axis=1)]"
   ]
  },
  {
   "cell_type": "markdown",
   "metadata": {},
   "source": [
    "Theo quan sát, một số các cầu thủ có nhiều cột chỉ số bị thiếu, cho nên ta sẽ thực hiện loại bỏ các cầu thủ đó và chỉ giữ lại các cầu thủ có ít nhất 11 cột không bị thiếu giá trị, đây là những cột chứa thông tin cá nhân của cầu thủ."
   ]
  },
  {
   "cell_type": "code",
   "execution_count": null,
   "metadata": {},
   "outputs": [],
   "source": [
    "football_df.dropna(thresh=11, inplace=True)\n",
    "football_df = football_df.reset_index()"
   ]
  },
  {
   "cell_type": "code",
   "execution_count": null,
   "metadata": {},
   "outputs": [],
   "source": [
    "# Đếm các giá trị null\n",
    "football_df.isnull().sum()"
   ]
  },
  {
   "cell_type": "markdown",
   "metadata": {},
   "source": [
    "#### Chuyển đổi Value và Wage từ object về dạng numeric"
   ]
  },
  {
   "cell_type": "code",
   "execution_count": null,
   "metadata": {},
   "outputs": [],
   "source": [
    "football_df.Value.unique(), football_df.Wage.unique()"
   ]
  },
  {
   "cell_type": "markdown",
   "metadata": {},
   "source": [
    "Các giá trị của Value và Wage là dạng chuỗi với tiền tố là kí hiệu tiền Euro, hậu tố là số lượng chữ số 0 như M = 6 số, K = 3 số"
   ]
  },
  {
   "cell_type": "code",
   "execution_count": null,
   "metadata": {},
   "outputs": [],
   "source": [
    "def convert_value(value):\n",
    "    \"\"\"\n",
    "        Hàm xử lí chuyển chuỗi giá trị sang dạng số.\n",
    "    \"\"\"\n",
    "    value = value[1:]\n",
    "    if value.endswith('K'):\n",
    "        return float(value[:-1]) * 1000\n",
    "    elif value.endswith('M'):\n",
    "        return float(value[:-1]) * 1000000\n",
    "    else:\n",
    "        return float(value)\n",
    "    \n",
    "football_df['Value'] = football_df.Value.apply(convert_value)\n",
    "football_df['Wage'] = football_df.Wage.apply(convert_value)"
   ]
  },
  {
   "cell_type": "code",
   "execution_count": null,
   "metadata": {},
   "outputs": [],
   "source": [
    "main_map_postions = {\n",
    "    'GK' : ['GK'],\n",
    "    'FW' : ['RS', 'ST', 'LS', 'CF', 'LF', 'RF', 'LW', 'RW'],\n",
    "    'MF' : ['LM', 'LCM', 'CM', 'RCM', 'RM', 'LDM', 'CDM', 'RDM', 'LAM', 'CAM', 'RAM'],\n",
    "    'DF' : ['RB', 'LB', 'LCB', 'LWB', 'RWB', 'CB', 'RCB']\n",
    "}\n",
    "def convert_to_main_position(position):\n",
    "    \"\"\"\n",
    "        Hàm gộp các vị trí thi đấu.\n",
    "    \"\"\"\n",
    "    for key, value in main_map_postions.items():\n",
    "        if position in value:\n",
    "            return key\n",
    "    return position\n",
    "\n",
    "def predict_position(df, model):\n",
    "    \"\"\"\n",
    "        Hàm dự đoán vị trí thi đấu trong sân của cầu thủ.\n",
    "    \"\"\"\n",
    "    if df.Position is np.nan:\n",
    "        pred_position = model.predict([df.drop(['Position']).values])\n",
    "        return pred_position[0]\n",
    "    return df.Position\n",
    "\n",
    "def train(X_train, y_train):\n",
    "    \"\"\"\n",
    "        Hàm huấn luyện mô hình dự đoán vị trí bằng Logis Regression.\n",
    "    \"\"\"\n",
    "    model = Pipeline([\n",
    "        ('scale', StandardScaler()),\n",
    "        ('clf', LogisticRegression(C=100, max_iter=1000, multi_class='multinomial', solver='lbfgs'))\n",
    "    ])\n",
    "\n",
    "    # Huấn luyện mô hình\n",
    "    model.fit(X_train, y_train)\n",
    "    \n",
    "    return model"
   ]
  },
  {
   "cell_type": "markdown",
   "metadata": {},
   "source": [
    "Huấn luyện mô hình dự đoán vị trí thi đấu của cầu thủ, mục tiêu là để lấp vị trí trống của những cầu thủ chưa có vị trí."
   ]
  },
  {
   "cell_type": "code",
   "execution_count": null,
   "metadata": {
    "scrolled": true
   },
   "outputs": [],
   "source": [
    "# Tách lọc những đặc trưng cần thiết cho dự đoán\n",
    "player_skills = football_df[[    'Crossing', 'Finishing', 'HeadingAccuracy', 'ShortPassing', 'Volleys',\n",
    "    'Dribbling', 'Curve', 'FKAccuracy', 'LongPassing', 'BallControl',\n",
    "    'Acceleration', 'SprintSpeed', 'Agility', 'Reactions', 'Balance', \n",
    "    'ShotPower', 'Jumping', 'Stamina', 'Strength', 'LongShots',\n",
    "    'Aggression', 'Interceptions', 'Positioning', 'Vision', 'Penalties', 'Composure',\n",
    "    'Marking', 'StandingTackle', 'SlidingTackle',\n",
    "    'GKKicking', 'GKPositioning', 'GKReflexes', 'GKDiving', 'GKHandling', 'Position']]\n",
    "\n",
    "\n",
    "player_skills['Position'] = player_skills.Position.apply(convert_to_main_position)\n",
    "player_skills.sample(10)"
   ]
  },
  {
   "cell_type": "code",
   "execution_count": null,
   "metadata": {},
   "outputs": [],
   "source": [
    "# Chuẩn bị dữ liệu\n",
    "y_data = player_skills[~player_skills.isnull().any(axis=1)].Position.values\n",
    "X_data = player_skills[~player_skills.isnull().any(axis=1)].drop(columns=['Position']).values\n",
    "\n",
    "X_train, X_val, y_train, y_val = train_test_split(X_data, y_data, test_size=0.2)"
   ]
  },
  {
   "cell_type": "code",
   "execution_count": null,
   "metadata": {},
   "outputs": [],
   "source": [
    "model = train(X_train, y_train)\n",
    "\n",
    "# Đánh giá mô hình\n",
    "print(\"Training accuray:\", model.score(X_train, y_train))\n",
    "print(\"Validation accuray:\", model.score(X_val, y_val))"
   ]
  },
  {
   "cell_type": "code",
   "execution_count": null,
   "metadata": {},
   "outputs": [],
   "source": [
    "# Dự đoán cho cầu thủ đang thiếu vị trí\n",
    "player_skills['Position'] = player_skills.apply(predict_position, args=(model, ), axis=1)\n",
    "football_df['Position'] = player_skills['Position']"
   ]
  },
  {
   "cell_type": "markdown",
   "metadata": {},
   "source": [
    "Hiển thị lại dữ liệu sau khi đã tiền xử lí."
   ]
  },
  {
   "cell_type": "code",
   "execution_count": null,
   "metadata": {},
   "outputs": [],
   "source": [
    "football_df.sample(5)"
   ]
  },
  {
   "cell_type": "code",
   "execution_count": null,
   "metadata": {},
   "outputs": [],
   "source": [
    "# Mô tả các giữ liệu số\n",
    "football_df.describe()"
   ]
  },
  {
   "cell_type": "markdown",
   "metadata": {},
   "source": [
    "## Thống kê dữ liệu"
   ]
  },
  {
   "cell_type": "markdown",
   "metadata": {},
   "source": [
    "#### 1. Số lượng các cầu thủ thi đấu ở các vị trí trong sân"
   ]
  },
  {
   "cell_type": "code",
   "execution_count": null,
   "metadata": {},
   "outputs": [],
   "source": [
    "print(\"Tổng số vị trí thi đấu:\", football_df.Position.unique().size)\n",
    "postion_count_df = football_df.Position.value_counts().to_frame().reset_index()\n",
    "postion_count_df.columns = ['Position', 'Count']\n",
    "postion_count_df.head(10)"
   ]
  },
  {
   "cell_type": "markdown",
   "metadata": {},
   "source": [
    "#### 2. Số lượng cầu thủ của các câu lạc bộ"
   ]
  },
  {
   "cell_type": "code",
   "execution_count": null,
   "metadata": {},
   "outputs": [],
   "source": [
    "print(\"Tổng số câu lạc bộ:\", football_df[football_df.Club != 'No Club'].Club.unique().size)\n",
    "club_count_df = football_df[football_df.Club != 'No Club'].Club.value_counts().to_frame().reset_index()\n",
    "club_count_df.columns = ['Club', 'Count']\n",
    "club_count_df.head(10)"
   ]
  },
  {
   "cell_type": "markdown",
   "metadata": {},
   "source": [
    "#### 3. Số lượng cầu thủ theo từng quốc gia"
   ]
  },
  {
   "cell_type": "code",
   "execution_count": null,
   "metadata": {},
   "outputs": [],
   "source": [
    "print(\"Tổng số quốc gia:\", football_df.Nationality.unique().size)\n",
    "nationality_count_df = football_df.Nationality.value_counts().to_frame().reset_index()\n",
    "nationality_count_df.columns = ['Nationality', 'Count']\n",
    "nationality_count_df.head(10)"
   ]
  },
  {
   "cell_type": "markdown",
   "metadata": {},
   "source": [
    "#### 4. Thu nhập và giá trị cầu thủ"
   ]
  },
  {
   "cell_type": "code",
   "execution_count": null,
   "metadata": {},
   "outputs": [],
   "source": [
    "valuest_name, value = football_df.iloc[football_df.Value.argmax()][['Name', 'Value']].to_list()\n",
    "print(\"Cầu thủ có giá trị cao nhất là {} với {} bảng Anh.\".format(valuest_name, int(value)))\n",
    "\n",
    "wagest_name, wage = football_df.iloc[football_df.Wage.argmax()][['Name', 'Wage']].to_list()\n",
    "print(\"Cầu thủ có lương cao nhất là {} với {} bảng Anh.\".format(wagest_name, int(wage)))"
   ]
  },
  {
   "cell_type": "markdown",
   "metadata": {},
   "source": [
    "#### 5. Chỉ số tổng quát và tiềm năng"
   ]
  },
  {
   "cell_type": "code",
   "execution_count": null,
   "metadata": {},
   "outputs": [],
   "source": [
    "print(\"Chỉ số tổng quát:\")\n",
    "most_overall_name, most_overall = football_df.iloc[football_df.Overall.argmax()][['Name', 'Overall']].to_list()\n",
    "print(\"Cầu thủ có chỉ số tổng quát cao nhất là {} với {} điểm.\".format(most_overall_name, int(most_overall)))\n",
    "least_overall_name, least_overall = football_df.iloc[football_df.Overall.argmin()][['Name', 'Overall']].to_list()\n",
    "print(\"Cầu thủ có chỉ số tổng quát thấp nhất là {} với {} điểm.\".format(least_overall_name, int(least_overall)))\n",
    "\n",
    "print(\"Tiềm năng:\")\n",
    "most_potenial_name, most_potential = football_df.iloc[football_df.Potential.argmax()][['Name', 'Potential']].to_list()\n",
    "print(\"Cầu thủ có tiềm năng cao nhất là {} với {} điểm.\".format(most_potenial_name, int(most_potential)))\n",
    "least_potential_name, least_potential = football_df.iloc[football_df.Potential.argmin()][['Name', 'Potential']].to_list()\n",
    "print(\"Cầu thủ có tiềm năng thấp nhất là {} với {} điểm.\".format(least_potential_name, int(least_potential)))"
   ]
  },
  {
   "cell_type": "markdown",
   "metadata": {},
   "source": [
    "## Phân tích dữ liệu"
   ]
  },
  {
   "cell_type": "markdown",
   "metadata": {},
   "source": [
    "Một số câu hỏi cần khám phá:\n",
    "\n",
    "    1. Ai là cầu thủ trẻ có giá trị cao nhất? Và liệu tuổi tác có ảnh hưởng tới lương và giá trị của cầu thủ?\n",
    "    2. Những câu lạc bộ nào có giá trị cao nhất?\n",
    "    3. Vị trí thi đấu nào được trả lương cao nhất?\n",
    "    4. Các vị trí thi đấu trên sân cần có những chỉ số thuộc tính nào?\n",
    "    5. Quốc gia nào sản sinh ra những cầu thủ tài năng nhất?"
   ]
  },
  {
   "cell_type": "markdown",
   "metadata": {},
   "source": [
    "#### Câu hỏi 1: Cầu thủ trẻ có giá trị cao nhất?"
   ]
  },
  {
   "cell_type": "markdown",
   "metadata": {},
   "source": [
    "Đầu tiên ta cần lấy ra Dataframe chỉ gồm các cột Giá trị, lương, chỉ số tổng quát và tiềm năng theo độ tuổi."
   ]
  },
  {
   "cell_type": "code",
   "execution_count": null,
   "metadata": {},
   "outputs": [],
   "source": [
    "# Lấy ra các cột Value, Wage, Overall, Potential theo Age\n",
    "age_value_df = football_df.groupby('Age')[['Value', 'Wage', 'Overall', 'Potential']].mean().reset_index()"
   ]
  },
  {
   "cell_type": "code",
   "execution_count": null,
   "metadata": {},
   "outputs": [],
   "source": [
    "# Vẽ 2 biểu đồ đường trong cùng một biểu đồ\n",
    "fig = plt.figure(figsize=(16, 10))\n",
    "ax = fig.add_subplot(211)\n",
    "linechart = ax.plot(age_value_df.Age, age_value_df.Overall, color='b', marker='o', label='Overall')\n",
    "linechart2 = ax.plot(age_value_df.Age, age_value_df.Potential, color='g', marker='o', label='Potential')\n",
    "\n",
    "ax.set_xlabel(\"Age\")\n",
    "ax.set_ylabel(\"Average of Overall and Potential\")\n",
    "ax.set_title('Chỉ số tổng quát và tiềm năng theo độ tuổi')\n",
    "fig.legend()\n",
    "plt.show()"
   ]
  },
  {
   "cell_type": "markdown",
   "metadata": {},
   "source": [
    "Dựa vào biểu đồ về Chỉ số tổng quát và tiềm năng theo độ tuổi ở phía trên, ta có thể thấy những cầu thủ dưới 25 tuổi là những cầu thủ trẻ có tiềm năng phát triển rất lớn và cao hơn những cầu thủ \"lão tướng\", còn những cầu thủ lớn hơn 25 tuổi thì chỉ số tổng quát và tiềm năng bằng nhau, tức là các cầu thủ này đã đạt đỉnh phong độ, không thể lên nữa."
   ]
  },
  {
   "cell_type": "markdown",
   "metadata": {},
   "source": [
    "Vậy những cầu thủ trẻ liệu có Giá trị và lương cao hơn những cầu thủ được cho là \"lão tướng\"?"
   ]
  },
  {
   "cell_type": "code",
   "execution_count": null,
   "metadata": {},
   "outputs": [],
   "source": [
    "fig = plt.figure(figsize=(16, 10))\n",
    "\n",
    "# Vẽ biểu đồ về trung bình giá trị theo tuổi\n",
    "ax = fig.add_subplot(211)\n",
    "barchart = ax.bar(age_value_df.Age, age_value_df.Value, color='r', label='Value') # Vẽ bar chart\n",
    "ax2 = ax.twinx()      # Kết hợp 2 biểu đồ\n",
    "linechart = ax2.plot(age_value_df.Age, age_value_df.Overall, color='b', marker='o', label='Overall') #Line chart\n",
    "\n",
    "ax.set_xlabel(\"Age\")\n",
    "ax.set_ylabel(\"Average of Value\")\n",
    "ax2.set_ylabel(\"Average of Overall and Potential\")\n",
    "fig.legend()\n",
    "\n",
    "\n",
    "# Vẽ biểu đồ về trung bình lương theo tuổi\n",
    "ax = fig.add_subplot(212)\n",
    "barchart = ax.bar(age_value_df.Age, age_value_df.Wage, color='r', label='Wage') # Vẽ bar chart\n",
    "ax2 = ax.twinx()   # Kết hợp 2 biểu đồ\n",
    "linechart = ax2.plot(age_value_df.Age, age_value_df.Overall, color='b', marker='o', label='Overall') #Vẽ line chart\n",
    "\n",
    "ax.set_xlabel(\"Age\")\n",
    "ax.set_ylabel(\"Average of Wage\")\n",
    "ax2.set_ylabel(\"Average of Overall and Potential\")\n",
    "plt.show()"
   ]
  },
  {
   "cell_type": "markdown",
   "metadata": {},
   "source": [
    "Độ tuổi có giá trị và lương cao nhất là khoảng từ 25 cho tới 31, đây là độ tuổi các cầu thủ đều đang đạt đỉnh phong độ của mình.\n",
    "\n",
    "Càng già tuổi (trên 35 tuổi), cầu thủ nhận lương và có giá trị càng thấp mặc dù chỉ số tổng quát của các cầu thủ này cũng đang rất tốt. Điều này có thể phụ thuộc vào nhiều yếu tố như ít nổi tiếng, sức lực giảm,..."
   ]
  },
  {
   "cell_type": "markdown",
   "metadata": {},
   "source": [
    "Vậy trong số cầu thủ trẻ đầy tiềm năng, ai là người hiện đang có giá trị cao nhất?"
   ]
  },
  {
   "cell_type": "code",
   "execution_count": null,
   "metadata": {},
   "outputs": [],
   "source": [
    "# Lọc ra danh sách cầu thủ dưới 25 tuổi\n",
    "valuest_young_player = football_df[football_df.Age <= 25][['Name', 'Age', 'Value']] \\\n",
    "                            .sort_values(['Value', 'Age'], ascending=False)\n",
    "\n",
    "# Lấy 10 cầu thủ cao nhất\n",
    "top_valuest_player = valuest_young_player.head(10)\n",
    "plt.figure(figsize=(16, 5))\n",
    "sns.barplot(x='Name', y=\"Value\", data=top_valuest_player)\n",
    "plt.title(\"Biểu đồ 10 cầu thủ trẻ giá trị cao nhất\")\n",
    "plt.show()"
   ]
  },
  {
   "cell_type": "markdown",
   "metadata": {},
   "source": [
    "Vậy cầu thủ trẻ dưới 25 tuổi có giá trị cao nhất là P.Dybala, thứ hai là H.Kane và thứ 3 là K.Mbappé"
   ]
  },
  {
   "cell_type": "markdown",
   "metadata": {},
   "source": [
    "Danh sách những cầu thủ đang đạt phong độ và có giá trị cao nhất"
   ]
  },
  {
   "cell_type": "code",
   "execution_count": null,
   "metadata": {},
   "outputs": [],
   "source": [
    "# Lọc ra danh sách cầu thủ trên 25 tuổi\n",
    "valuest_well_player = football_df[football_df.Age > 25][['Name', 'Age', 'Value']] \\\n",
    "                            .sort_values(['Value', 'Age'], ascending=False)\n",
    "\n",
    "# Lấy 10 cầu thủ cao nhất\n",
    "top_valuest_well_player = valuest_well_player.head(10)\n",
    "plt.figure(figsize=(16, 5))\n",
    "sns.barplot(x='Name', y=\"Value\", data=top_valuest_well_player)\n",
    "plt.title(\"Biểu đồ 10 cầu thủ có phong độ tốt nhất tại thời điểm hiện tại và có giá trị cao nhất\")\n",
    "plt.show()"
   ]
  },
  {
   "cell_type": "markdown",
   "metadata": {},
   "source": [
    "Cầu thủ hiện đang thi đấu tốt và có giá trị cao nhất ở thời điểm hiện tại là Neymar JR, L.Messi và K. De Bruyne"
   ]
  },
  {
   "cell_type": "markdown",
   "metadata": {},
   "source": [
    "#### Câu hỏi 2: Các câu lạc bộ có giá trị cao nhất?"
   ]
  },
  {
   "cell_type": "markdown",
   "metadata": {},
   "source": [
    "Lấy ra danh sách các câu lạc bộ cùng với tổng Giá trị, lương cùng với trung bình chỉ số tổng quát và tiềm năng của từng câu lạc bộ dựa vào các cầu thủ đang thi đấu cho câu lạc bộ đó."
   ]
  },
  {
   "cell_type": "code",
   "execution_count": null,
   "metadata": {},
   "outputs": [],
   "source": [
    "attribute_clubs = football_df[['Club', 'Value', \n",
    "                               'Wage', 'Overall', 'Potential']].groupby('Club').agg({\n",
    "                                'Value' : 'sum', 'Wage' : 'sum', 'Overall' : 'mean', 'Potential' : 'mean'\n",
    "                            }).reset_index()\n",
    "\n",
    "# Vẽ bar chart 10 câu lạc bộ có Value cao nhất\n",
    "top_valuest_club = attribute_clubs[['Club', 'Value']].sort_values(['Value'], ascending=False).head(10)\n",
    "plt.figure(figsize=(16, 15))\n",
    "plt.subplot(311)\n",
    "sns.barplot(x='Club', y='Value', data=top_valuest_club)\n",
    "plt.xticks(rotation=30)\n",
    "plt.title(\"Danh sách 10 câu lạc bộ có giá trị cao nhất\")\n",
    "\n",
    "# Vẽ bar chart 10 câu lạc bộ có Overall cao nhất\n",
    "top_strongest_club = attribute_clubs[['Club', 'Overall']].sort_values(['Overall'], ascending=False).head(10)\n",
    "plt.figure(figsize=(16, 15))\n",
    "plt.subplot(312)\n",
    "sns.barplot(x='Club', y='Overall', data=top_strongest_club)\n",
    "plt.xticks(rotation=30)\n",
    "plt.title(\"Danh sách 10 câu lạc bộ có mạnh nhất\")\n",
    "plt.show()"
   ]
  },
  {
   "cell_type": "markdown",
   "metadata": {},
   "source": [
    "Ở trên là danh sách 10 câu lạc bộ có giá trị cao nhất và có chỉ số tổng quát cao nhất tính theo trung bình của các cầu thủ đang thi đấu cho câu lạc bộ đó.\n",
    "\n",
    "Trong đó, Juventus là câu lạc bộ có giá trị và đội hình cao nhất trong số các câu lạc bộ còn lại, chỉ số tổng quát trung bình của đội bóng này là hơn 80 điểm."
   ]
  },
  {
   "cell_type": "markdown",
   "metadata": {},
   "source": [
    "Vậy đội hình của câu lạc bộ Juventus gồm những ai?"
   ]
  },
  {
   "cell_type": "code",
   "execution_count": null,
   "metadata": {},
   "outputs": [],
   "source": [
    "juventus_squad = football_df[football_df.Club == 'Juventus'][['Name', 'Age', 'Nationality',\n",
    "                                                              'Club', 'Value', 'Overall', 'Potential']].reset_index()\n",
    "\n",
    "display(juventus_squad)"
   ]
  },
  {
   "cell_type": "markdown",
   "metadata": {},
   "source": [
    "#### Câu hỏi 3: Vị trí thi đấu nào được trả lương cao nhất?"
   ]
  },
  {
   "cell_type": "markdown",
   "metadata": {},
   "source": [
    "Ta sẽ sử dụng biểu đồ tròn để thể hiện phần trăm lương được trả và số lượng cầu thủ chơi ở vị trí thi đấu đó."
   ]
  },
  {
   "cell_type": "code",
   "execution_count": null,
   "metadata": {},
   "outputs": [],
   "source": [
    "plt.figure(figsize=(12, 12))\n",
    "\n",
    "# Lấy ra trung bình của Wage và đếm vị trí theo ID\n",
    "position_with_value = football_df[['Position', 'Wage', 'ID']].groupby('Position') \\\n",
    "                                                            .agg({'ID':'count', 'Wage':'mean'}) \\\n",
    "                                                            .reset_index()\n",
    "position_with_value = position_with_value.sort_values(['Wage'], ascending=False)\n",
    "\n",
    "# Vẽ pie chart của tỉ lệ lương từng vị trí\n",
    "plt.subplot(121)\n",
    "\n",
    "plt.pie(position_with_value.Wage, labels=position_with_value.Position, autopct='%1.1f%%')\n",
    "plt.title('Tỉ lệ lương của từng vị trí')\n",
    "\n",
    "# Vẽ pie chart của tỉ lệ số lượng cầu thủ theo vị trí\n",
    "plt.subplot(122)\n",
    "plt.pie(position_with_value.ID, labels=position_with_value.Position, autopct='%1.1f%%')\n",
    "plt.title('Tỉ lệ số lượng cầu thủ thi đấu ở vị trí')\n",
    "\n",
    "plt.show()"
   ]
  },
  {
   "cell_type": "markdown",
   "metadata": {},
   "source": [
    "Dựa vào biểu đồ ở phía trên, vị trí Tiền đạo (FW) được trả lương cao nhất; Thủ môn là vị trí được trả lương thấp nhất mặc dù thủ môn là vị trí có ít cầu thủ nhất."
   ]
  },
  {
   "cell_type": "markdown",
   "metadata": {},
   "source": [
    "Những cầu thủ nào hiện đang chơi những vị trí này tốt nhất?"
   ]
  },
  {
   "cell_type": "code",
   "execution_count": null,
   "metadata": {},
   "outputs": [],
   "source": [
    "best_position_player = football_df[football_df.Overall == \n",
    "                                   football_df.groupby('Position')['Overall'].transform(max)]\n",
    "\n",
    "display(best_position_player[['Name', 'Age', 'Wage', 'Value', \n",
    "                              'Position', 'Overall', 'Potential', 'Club', 'Nationality']])"
   ]
  },
  {
   "cell_type": "markdown",
   "metadata": {},
   "source": [
    "+ Tiền đạo có L.Messi và Cristiano Ronaldo là 2 cầu thủ xuất sắc nhất.\n",
    "\n",
    "+ Tiền vệ có K. De Bruyne và L. Modric là 2 cầu thủ xuất sắc nhất.\n",
    "\n",
    "+ Thủ môn De Gea là người giữ lưới xuất sắc nhất.\n",
    "\n",
    "+ Hậu vệ Sergio Ramos là người xuất sắc nhất."
   ]
  },
  {
   "cell_type": "markdown",
   "metadata": {},
   "source": [
    "#### Câu hỏi 4: Các vị trí thi đấu cần có chỉ số nào?"
   ]
  },
  {
   "cell_type": "markdown",
   "metadata": {},
   "source": [
    "Đầu tiên ta sẽ thực hiện gom nhóm các chỉ số lại, cụ thể như sau:\n",
    "\n",
    "    - Attacking: Crossing, Finishing, HeadingAccuracy, ShortPassing, Volleys\n",
    "    - Skill: Dribbling, Curve, FKAccuracy, LongPassing, BallControl\n",
    "    - Movement: Acceleration, SprintSpeed, Agility, Reactions, Balance\n",
    "    - Power: ShotPower, Jumping, Stamina, Strength, LongShots\n",
    "    - Mentality: Aggression, Interceptions, Positioning, Vision, Penalties, Composure\n",
    "    - Defending: Marking, StandingTackle, SlidingTackle\n",
    "    - Goalkeeping: GKKicking, GKPositioning, GKReflexes, GKDiving, GKHandling"
   ]
  },
  {
   "cell_type": "code",
   "execution_count": null,
   "metadata": {},
   "outputs": [],
   "source": [
    "# Tạo các cột tương ứng với các nhóm mới\n",
    "football_df['Attacking'] = football_df[['Crossing', 'Finishing',\n",
    "       'HeadingAccuracy', 'ShortPassing', 'Volleys']].apply(np.mean, axis=1)\n",
    "\n",
    "football_df['Skill'] = football_df[['Dribbling', 'Curve',\n",
    "       'FKAccuracy', 'LongPassing', 'BallControl']].apply(np.mean, axis=1)\n",
    "\n",
    "football_df['Movement'] = football_df[['Acceleration',\n",
    "       'SprintSpeed', 'Agility', 'Reactions', 'Balance']].apply(np.mean, axis=1)\n",
    "\n",
    "football_df['Power'] = football_df[['ShotPower',\n",
    "       'Jumping', 'Stamina', 'Strength', 'LongShots']].apply(np.mean, axis=1)\n",
    "\n",
    "football_df['Mentality'] = football_df[['Aggression',\n",
    "       'Interceptions', 'Positioning', 'Vision', 'Penalties', 'Composure']].apply(np.mean, axis=1)\n",
    "\n",
    "football_df['Defending'] = football_df[['Marking', 'StandingTackle', 'SlidingTackle']].apply(np.mean, axis=1)\n",
    "\n",
    "football_df['Goalkeeping'] = football_df[[ 'GKKicking',\n",
    "       'GKPositioning', 'GKReflexes', 'GKDiving', 'GKHandling']].apply(np.mean, axis=1)"
   ]
  },
  {
   "cell_type": "markdown",
   "metadata": {},
   "source": [
    "Sau khi đã gộp thành công, ta cần tính trung bình giá trị của các cột mới theo Position, đồng thời sắp xếp các giá trị theo thứ tự giảm dần."
   ]
  },
  {
   "cell_type": "code",
   "execution_count": null,
   "metadata": {},
   "outputs": [],
   "source": [
    "# Gộp lại theo Position và tính trung bình các chỉ số\n",
    "position_ability = football_df.groupby('Position')[['Attacking', 'Skill', 'Movement',\n",
    "                                'Power', 'Mentality', 'Defending', 'Goalkeeping']].agg('mean')\n",
    "\n",
    "# Tách giá trị từng cột ra làm dataframe khác nhau\n",
    "df_ability = position_ability.transpose().DF.sort_values(ascending=False) \\\n",
    "        .to_frame()\n",
    "fw_ability = position_ability.transpose().FW.sort_values(ascending=False) \\\n",
    "        .to_frame()\n",
    "mf_ability = position_ability.transpose().MF.sort_values(ascending=False) \\\n",
    "        .to_frame()\n",
    "gk_ability = position_ability.transpose().GK.sort_values(ascending=False) \\\n",
    "        .to_frame()"
   ]
  },
  {
   "cell_type": "code",
   "execution_count": null,
   "metadata": {},
   "outputs": [],
   "source": [
    "# Khởi tạo figure\n",
    "plt.figure(figsize=(16, 10))\n",
    "\n",
    "# Vẽ barchart hậu vệ (DF)\n",
    "ax = plt.subplot(221)\n",
    "sns.barplot(x=\"DF\", y=\"index\", data=df_ability.reset_index(),\n",
    "            label=\"Ability\", color='r')\n",
    "ax.set(ylabel=\"Ability\")\n",
    "ax.set_xlabel('DF', fontsize=18)\n",
    "\n",
    "# Vẽ barchart tiền đạo (FW)\n",
    "ax = plt.subplot(222)\n",
    "sns.barplot(x=\"FW\", y=\"index\", data=fw_ability.reset_index(),\n",
    "            label=\"Ability\", color='r')\n",
    "ax.set(ylabel=\"Ability\")\n",
    "ax.set_xlabel('FW', fontsize=18)\n",
    "\n",
    "# Vẽ barchart tiền vệ (MF)\n",
    "ax = plt.subplot(223)\n",
    "sns.barplot(x=\"MF\", y=\"index\", data=mf_ability.reset_index(),\n",
    "            label=\"Ability\", color='r')\n",
    "ax.set(ylabel=\"Ability\")\n",
    "ax.set_xlabel('MF', fontsize=18)\n",
    "\n",
    "# Vẽ barchart thủ môn (GK)\n",
    "ax = plt.subplot(224)\n",
    "sns.barplot(x=\"GK\", y=\"index\", data=gk_ability.reset_index(),\n",
    "            label=\"Ability\", color='r')\n",
    "ax.set(ylabel=\"Ability\")\n",
    "ax.set_xlabel('GK', fontsize=18)\n",
    "\n",
    "# Đặt ngang barchart\n",
    "sns.despine(left=True, bottom=True)"
   ]
  },
  {
   "cell_type": "markdown",
   "metadata": {},
   "source": [
    "Như 4 biểu đồ phía trên, ta có thể thấy được mỗi vị trí có những chỉ số kĩ năng riêng biệt.\n",
    "\n",
    "+ Hậu vệ (DF): cần nhất chỉ số phòng thủ (Defending)\n",
    "+ Tiền đạo (FW): cần nhất chỉ số di chuyển (Movement)\n",
    "+ Tiền vệ (MF): cần nhất chỉ số di chuyển (Movement)\n",
    "+ Thủ môn (GK): cần nhất chỉ số giữ lưới (Goalkeeping)"
   ]
  },
  {
   "cell_type": "markdown",
   "metadata": {},
   "source": [
    "#### Câu hỏi 5: Quốc gia nào có chất lượng cầu thủ tốt nhất?"
   ]
  },
  {
   "cell_type": "markdown",
   "metadata": {},
   "source": [
    "Trong bộ dữ liệu có sự góp mặt của các cầu thủ tới từ 164 quốc gia, vậy liệu quốc gia nào sẽ có chất lượng cầu thủ tốt nhất, quốc gia nào sẽ có chỉ số tổng quát (Overall) các cầu thủ đạt cao nhất.\n",
    "\n",
    "Ta sẽ dùng bản đồ địa lí để minh họa theo giá trị trung bình chỉ số tổng quát."
   ]
  },
  {
   "cell_type": "code",
   "execution_count": null,
   "metadata": {},
   "outputs": [],
   "source": [
    "# Vẽ bản đồ địa lí thể hiện trung bình chỉ số tổng quát Overall của từng quốc gia\n",
    "nationality_overall_df = football_df.groupby('Nationality')['Overall'].agg('mean').to_frame().reset_index()\n",
    "\n",
    "fig = px.choropleth(nationality_overall_df, locations='Nationality', \n",
    "                    color='Overall', locationmode='country names')\n",
    "\n",
    "fig.update_layout(title_text='Bản đồ thể hiện trung bình chỉ số tổng quát')\n",
    "fig.show()"
   ]
  },
  {
   "cell_type": "markdown",
   "metadata": {},
   "source": [
    "Như ở trên, Châu Âu và khu vực Nam Mỹ có trung bình cầu thủ chất lượng, và Ả Rập Xê-Út là quốc gia có chỉ số cao nhất, lên tới 77 điểm."
   ]
  },
  {
   "cell_type": "markdown",
   "metadata": {},
   "source": [
    "## Tổng kết quá trình làm đồ án"
   ]
  },
  {
   "cell_type": "markdown",
   "metadata": {},
   "source": [
    "### Khó khăn gặp phải\n",
    "\n",
    "Trong khi thực hiện đồ án, em gặp phải những vấn đề khó khăn trong: \n",
    "+ Việc lựa chọn loại biểu đồ phù hợp thể hiện cho các phần trả lời câu hỏi.\n",
    "+ Xử lí những giá trị bị thiếu một cách hợp lí.\n",
    "+ Dòng lệnh để truy vấn dữ liệu cho câu trả lời."
   ]
  },
  {
   "cell_type": "markdown",
   "metadata": {},
   "source": [
    "### Những điều học được\n",
    "\n",
    "Nhờ việc thực hiện đồ án này, bàn thân em đã tích lũy được:\n",
    "+ Quy trình thực hiện phân tích dữ liệu.\n",
    "+ Hiểu hơn về dữ liệu, cụ thể là lĩnh vực bóng đá."
   ]
  },
  {
   "cell_type": "markdown",
   "metadata": {},
   "source": [
    "### Công việc tiếp theo\n",
    "\n",
    "Sau khi hoàn thành đồ án này, bản thân em muốn mở rộng phần phân tích của mình để phân tích sâu hơn về lĩnh vực này. Cụ thể, phân tích về các lịch thi đấu và xếp hạng, phân tích các giải đấu,..."
   ]
  },
  {
   "cell_type": "markdown",
   "metadata": {},
   "source": [
    "## Tham khảo"
   ]
  },
  {
   "cell_type": "markdown",
   "metadata": {},
   "source": [
    "1. [Plotly documentation](https://plotly.com/python/choropleth-maps)\n",
    "2. [Seaborn documentation](https://seaborn.pydata.org/examples/index.html)\n",
    "3. [StackOverflow](https://stackoverflow.com/)\n",
    "4. [Kaggle](https://kaggle.com/)\n",
    "5. [SoFIFA](https://sofifa.com/)\n",
    "6. [Matplotlib documentation](https://matplotlib.org/)\n",
    "7. [Pandas documentation](https://pandas.pydata.org/)"
   ]
  }
 ],
 "metadata": {
  "kernelspec": {
   "display_name": "Python 3 (ipykernel)",
   "language": "python",
   "name": "python3"
  },
  "language_info": {
   "codemirror_mode": {
    "name": "ipython",
    "version": 3
   },
   "file_extension": ".py",
   "mimetype": "text/x-python",
   "name": "python",
   "nbconvert_exporter": "python",
   "pygments_lexer": "ipython3",
   "version": "3.8.8"
  }
 },
 "nbformat": 4,
 "nbformat_minor": 2
}
