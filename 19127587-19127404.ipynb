{
 "cells": [
  {
   "cell_type": "markdown",
   "metadata": {},
   "source": [
    "* ### Họ và tên và MSSV: \n",
    "- Trương Chí Toàn - 19127587\n",
    "- Phan Trung Hiếu - 19127404\n"
   ]
  },
  {
   "cell_type": "markdown",
   "metadata": {},
   "source": [
    "Link github: https://github.com/d3gh3tpr0/Final-Project-P4DS"
   ]
  },
  {
   "cell_type": "markdown",
   "metadata": {},
   "source": [
    "---"
   ]
  },
  {
   "cell_type": "markdown",
   "metadata": {},
   "source": [
    "# ĐỒ ÁN CUỐI KỲ"
   ]
  },
  {
   "cell_type": "markdown",
   "metadata": {},
   "source": [
    "# Môi trường code"
   ]
  },
  {
   "cell_type": "code",
   "execution_count": 26,
   "metadata": {},
   "outputs": [
    {
     "data": {
      "text/plain": [
       "'D:\\\\Users\\\\TCTOAN\\\\Downloads\\\\anaconda3\\\\envs\\\\min_ds-env\\\\python.exe'"
      ]
     },
     "execution_count": 26,
     "metadata": {},
     "output_type": "execute_result"
    }
   ],
   "source": [
    "import sys\n",
    "sys.executable"
   ]
  },
  {
   "cell_type": "markdown",
   "metadata": {},
   "source": [
    "## Import library"
   ]
  },
  {
   "cell_type": "code",
   "execution_count": 1,
   "metadata": {
    "scrolled": true
   },
   "outputs": [],
   "source": [
    "import pandas as pd\n",
    "import numpy as np\n",
    "import matplotlib.pyplot as plt\n",
    "import seaborn as sns\n",
    "sns.set_theme(style=\"whitegrid\")\n",
    "\n",
    "%matplotlib inline\n",
    "plt.style.use('seaborn-pastel')"
   ]
  },
  {
   "cell_type": "markdown",
   "metadata": {},
   "source": [
    "## Giới thiệu dữ liệu"
   ]
  },
  {
   "cell_type": "markdown",
   "metadata": {},
   "source": [
    "Nhóm em xin trình bày về phân tích dữ liệu về elo ranking của vận động viên tennis thuộc giải The Association of Tennis Professionals (ATP)"
   ]
  },
  {
   "cell_type": "markdown",
   "metadata": {},
   "source": [
    "- Dữ liệu <i>Tennis players ranking based on ELO scores</i> được lấy từ Kaggle tại [đây](https://www.kaggle.com/ramjasmaurya/tennis-players-ranking-based-on-elo-scores?fbclid=IwAR3ReUKj-X3uYBmS2LwP-R1Jc2tLyKSzkar5Y6jcqjXn0bm3XQEzfHQ8Zhg).\n",
    "\n",
    "- Theo thông tin về license mà tác giả đưa ra trên Kaggle, Ram Jas Maurya cho phép người sử dụng chia sẻ và tùy chỉnh dữ liệu."
   ]
  },
  {
   "cell_type": "code",
   "execution_count": 2,
   "metadata": {
    "scrolled": true
   },
   "outputs": [],
   "source": [
    "# Đọc file csv\n",
    "tennis_df = pd.read_csv('data.csv',encoding='ISO-8859-1')"
   ]
  },
  {
   "cell_type": "markdown",
   "metadata": {},
   "source": [
    "## Khám phá dữ liệu"
   ]
  },
  {
   "cell_type": "code",
   "execution_count": 3,
   "metadata": {
    "scrolled": true
   },
   "outputs": [
    {
     "data": {
      "text/html": [
       "<div>\n",
       "<style scoped>\n",
       "    .dataframe tbody tr th:only-of-type {\n",
       "        vertical-align: middle;\n",
       "    }\n",
       "\n",
       "    .dataframe tbody tr th {\n",
       "        vertical-align: top;\n",
       "    }\n",
       "\n",
       "    .dataframe thead th {\n",
       "        text-align: right;\n",
       "    }\n",
       "</style>\n",
       "<table border=\"1\" class=\"dataframe\">\n",
       "  <thead>\n",
       "    <tr style=\"text-align: right;\">\n",
       "      <th></th>\n",
       "      <th>Player</th>\n",
       "      <th>Age</th>\n",
       "      <th>Elo</th>\n",
       "      <th>HardRaw</th>\n",
       "      <th>ClayRaw</th>\n",
       "      <th>GrassRaw</th>\n",
       "      <th>hard_court_elo_rating</th>\n",
       "      <th>clay_court_elo_rating</th>\n",
       "      <th>grass_court_elo_rating</th>\n",
       "      <th>Peak_Match</th>\n",
       "      <th>Peak_Age</th>\n",
       "      <th>Peak_Elo</th>\n",
       "      <th>Gender</th>\n",
       "      <th>Rank</th>\n",
       "    </tr>\n",
       "  </thead>\n",
       "  <tbody>\n",
       "    <tr>\n",
       "      <th>0</th>\n",
       "      <td>Novak Djokovic</td>\n",
       "      <td>34.5</td>\n",
       "      <td>2185.2</td>\n",
       "      <td>2068.0</td>\n",
       "      <td>2016.3</td>\n",
       "      <td>1942.4</td>\n",
       "      <td>2126.6</td>\n",
       "      <td>2100.8</td>\n",
       "      <td>2063.8</td>\n",
       "      <td>2016 Miami F</td>\n",
       "      <td>28.8</td>\n",
       "      <td>2470.0</td>\n",
       "      <td>Male</td>\n",
       "      <td>1</td>\n",
       "    </tr>\n",
       "    <tr>\n",
       "      <th>1</th>\n",
       "      <td>Daniil Medvedev</td>\n",
       "      <td>25.9</td>\n",
       "      <td>2166.2</td>\n",
       "      <td>2095.3</td>\n",
       "      <td>1714.1</td>\n",
       "      <td>1723.4</td>\n",
       "      <td>2130.7</td>\n",
       "      <td>1940.1</td>\n",
       "      <td>1944.8</td>\n",
       "      <td>2022 Atp Cup RR</td>\n",
       "      <td>25.9</td>\n",
       "      <td>2175.1</td>\n",
       "      <td>Male</td>\n",
       "      <td>2</td>\n",
       "    </tr>\n",
       "    <tr>\n",
       "      <th>2</th>\n",
       "      <td>Alexander Zverev</td>\n",
       "      <td>24.7</td>\n",
       "      <td>2141.3</td>\n",
       "      <td>2056.7</td>\n",
       "      <td>1999.1</td>\n",
       "      <td>1671.4</td>\n",
       "      <td>2099.0</td>\n",
       "      <td>2070.2</td>\n",
       "      <td>1906.4</td>\n",
       "      <td>2022 Atp Cup RR</td>\n",
       "      <td>24.7</td>\n",
       "      <td>2157.9</td>\n",
       "      <td>Male</td>\n",
       "      <td>3</td>\n",
       "    </tr>\n",
       "    <tr>\n",
       "      <th>3</th>\n",
       "      <td>Roger Federer</td>\n",
       "      <td>39.9</td>\n",
       "      <td>2043.0</td>\n",
       "      <td>1936.7</td>\n",
       "      <td>1749.6</td>\n",
       "      <td>1813.4</td>\n",
       "      <td>1989.8</td>\n",
       "      <td>1896.3</td>\n",
       "      <td>1928.2</td>\n",
       "      <td>2007 Dubai F</td>\n",
       "      <td>25.6</td>\n",
       "      <td>2382.0</td>\n",
       "      <td>Male</td>\n",
       "      <td>4</td>\n",
       "    </tr>\n",
       "    <tr>\n",
       "      <th>4</th>\n",
       "      <td>Carlos Alcaraz</td>\n",
       "      <td>18.5</td>\n",
       "      <td>2029.5</td>\n",
       "      <td>1906.3</td>\n",
       "      <td>1834.4</td>\n",
       "      <td>1441.4</td>\n",
       "      <td>1967.9</td>\n",
       "      <td>1932.0</td>\n",
       "      <td>1735.5</td>\n",
       "      <td>2021 NextGen Finals F</td>\n",
       "      <td>18.5</td>\n",
       "      <td>2029.5</td>\n",
       "      <td>Male</td>\n",
       "      <td>5</td>\n",
       "    </tr>\n",
       "  </tbody>\n",
       "</table>\n",
       "</div>"
      ],
      "text/plain": [
       "             Player   Age     Elo  HardRaw  ClayRaw  GrassRaw  \\\n",
       "0    Novak Djokovic  34.5  2185.2   2068.0   2016.3    1942.4   \n",
       "1   Daniil Medvedev  25.9  2166.2   2095.3   1714.1    1723.4   \n",
       "2  Alexander Zverev  24.7  2141.3   2056.7   1999.1    1671.4   \n",
       "3     Roger Federer  39.9  2043.0   1936.7   1749.6    1813.4   \n",
       "4    Carlos Alcaraz  18.5  2029.5   1906.3   1834.4    1441.4   \n",
       "\n",
       "   hard_court_elo_rating  clay_court_elo_rating  grass_court_elo_rating  \\\n",
       "0                 2126.6                 2100.8                  2063.8   \n",
       "1                 2130.7                 1940.1                  1944.8   \n",
       "2                 2099.0                 2070.2                  1906.4   \n",
       "3                 1989.8                 1896.3                  1928.2   \n",
       "4                 1967.9                 1932.0                  1735.5   \n",
       "\n",
       "              Peak_Match  Peak_Age  Peak_Elo Gender  Rank  \n",
       "0           2016 Miami F      28.8    2470.0   Male     1  \n",
       "1        2022 Atp Cup RR      25.9    2175.1   Male     2  \n",
       "2        2022 Atp Cup RR      24.7    2157.9   Male     3  \n",
       "3           2007 Dubai F      25.6    2382.0   Male     4  \n",
       "4  2021 NextGen Finals F      18.5    2029.5   Male     5  "
      ]
     },
     "execution_count": 3,
     "metadata": {},
     "output_type": "execute_result"
    }
   ],
   "source": [
    "tennis_df.head()"
   ]
  },
  {
   "cell_type": "markdown",
   "metadata": {},
   "source": [
    "# 2. Exploring data (often interleaved with preprocessing)"
   ]
  },
  {
   "cell_type": "markdown",
   "metadata": {},
   "source": [
    "## How many rows and how many columns?"
   ]
  },
  {
   "cell_type": "code",
   "execution_count": 4,
   "metadata": {
    "scrolled": true
   },
   "outputs": [
    {
     "name": "stdout",
     "output_type": "stream",
     "text": [
      "Number of rows: 783\n",
      "Number of columns: 14\n"
     ]
    }
   ],
   "source": [
    "print(\"Number of rows: %d\\nNumber of columns: %d\" % (tennis_df.shape))"
   ]
  },
  {
   "cell_type": "markdown",
   "metadata": {},
   "source": [
    "## What is the meaning of each row?"
   ]
  },
  {
   "cell_type": "markdown",
   "metadata": {},
   "source": [
    "Mỗi dòng là thông tin của một vận động viên."
   ]
  },
  {
   "cell_type": "markdown",
   "metadata": {},
   "source": [
    "## Are there duplicated rows?"
   ]
  },
  {
   "cell_type": "code",
   "execution_count": 5,
   "metadata": {},
   "outputs": [
    {
     "data": {
      "text/plain": [
       "False"
      ]
     },
     "execution_count": 5,
     "metadata": {},
     "output_type": "execute_result"
    }
   ],
   "source": [
    "have_duplicated_rows = (tennis_df.duplicated().any() == True)\n",
    "have_duplicated_rows"
   ]
  },
  {
   "cell_type": "markdown",
   "metadata": {},
   "source": [
    "## What is the meaning of each column?"
   ]
  },
  {
   "cell_type": "markdown",
   "metadata": {},
   "source": [
    "- Player: Tên vận động viên\n",
    "- Age: Tuổi của họ\n",
    "- Elo: Điểm elo tổng quát của họ (không tính loại sân)\n",
    "- HardRaw: Điểm elo khi thi đấu trên sân bê tông\n",
    "- ClayRaw: Điểm elo khi thi đấu trên sân đất\n",
    "- GrassRaw: Điểm elo khi thi đấu trên sân cỏ\n",
    "- Hard_court_elo_rating: Điểm trung bình của Elo tổng và Elo trên sân bê tông\n",
    "- Clay_court_elo_rating: Điểm trung bình của Elo tổng và Elo trên sân đất\n",
    "- Grass_court_elo_rating: Điểm trung bình của Elo tổng và Elo trên sân cỏ\n",
    "- Peak_Match: Giải đấu tham gia khi ở đỉnh cao nhất sự nghiệp\n",
    "- Peak_Age: Tuổi khi ở đỉnh cao nhất sự nghiệp\n",
    "- Peak_Elo: Elo khi ở đỉnh cao nhất sự nghiệp\n",
    "- Gender: Giới tính\n",
    "- Rank: Thứ hạng"
   ]
  },
  {
   "cell_type": "markdown",
   "metadata": {},
   "source": [
    "## What is the current data type of each column? Are there columns having inappropriate data types?"
   ]
  },
  {
   "cell_type": "markdown",
   "metadata": {},
   "source": [
    "Lấy dtype của mỗi cột trong tennis_df và lưu kết quả vào col_dtypes; series này có index là tên cột"
   ]
  },
  {
   "cell_type": "code",
   "execution_count": 6,
   "metadata": {},
   "outputs": [
    {
     "data": {
      "text/plain": [
       "Player                     object\n",
       "Age                       float64\n",
       "Elo                       float64\n",
       "HardRaw                   float64\n",
       "ClayRaw                   float64\n",
       "GrassRaw                  float64\n",
       "hard_court_elo_rating     float64\n",
       "clay_court_elo_rating     float64\n",
       "grass_court_elo_rating    float64\n",
       "Peak_Match                 object\n",
       "Peak_Age                  float64\n",
       "Peak_Elo                  float64\n",
       "Gender                     object\n",
       "Rank                        int64\n",
       "dtype: object"
      ]
     },
     "execution_count": 6,
     "metadata": {},
     "output_type": "execute_result"
    }
   ],
   "source": [
    "col_dtypes = tennis_df.dtypes\n",
    "col_dtypes"
   ]
  },
  {
   "cell_type": "markdown",
   "metadata": {},
   "source": [
    "Như ta thấy thì cột Player, Peak_Match và Peak_Elo có type là object. Trong Pandas, kiểu dữ liệu object thường ám chỉ chuỗi, nhưng thật ra kiểu dữ liệu object có thể chứa một đối tượng bất kỳ trong Python (vì thật ra ở bên dưới kiểu dữ liệu object chứa địa chỉ). Nếu một cột trong dataframe có dtype là object thì có thể các phần tử trong cột này sẽ có kiểu dữ liệu khác nhau; để biết được kiểu dữ liệu thật sự của các phần tử trong cột này thì ta phải truy xuất vào từng phần tử và dùng câu lệnh type để xem kiểu dữ liệu."
   ]
  },
  {
   "cell_type": "code",
   "execution_count": 7,
   "metadata": {},
   "outputs": [
    {
     "data": {
      "text/plain": [
       "({str}, {str}, {str})"
      ]
     },
     "execution_count": 7,
     "metadata": {},
     "output_type": "execute_result"
    }
   ],
   "source": [
    "def open_object_dtype(s):\n",
    "    dtypes = set()\n",
    "    dtypes.update(s.apply(lambda x:type(x)).unique())\n",
    "    return dtypes\n",
    "\n",
    "open_object_dtype(tennis_df['Player']),open_object_dtype(tennis_df['Peak_Match']),open_object_dtype(tennis_df['Gender'])"
   ]
  },
  {
   "cell_type": "markdown",
   "metadata": {},
   "source": [
    "Vậy cả 3 cột đều có dạng string"
   ]
  },
  {
   "cell_type": "markdown",
   "metadata": {},
   "source": [
    "## With each numerical column, how are values distributed?"
   ]
  },
  {
   "cell_type": "code",
   "execution_count": 8,
   "metadata": {},
   "outputs": [
    {
     "data": {
      "text/html": [
       "<div>\n",
       "<style scoped>\n",
       "    .dataframe tbody tr th:only-of-type {\n",
       "        vertical-align: middle;\n",
       "    }\n",
       "\n",
       "    .dataframe tbody tr th {\n",
       "        vertical-align: top;\n",
       "    }\n",
       "\n",
       "    .dataframe thead th {\n",
       "        text-align: right;\n",
       "    }\n",
       "</style>\n",
       "<table border=\"1\" class=\"dataframe\">\n",
       "  <thead>\n",
       "    <tr style=\"text-align: right;\">\n",
       "      <th></th>\n",
       "      <th>Age</th>\n",
       "      <th>Elo</th>\n",
       "      <th>HardRaw</th>\n",
       "      <th>ClayRaw</th>\n",
       "      <th>GrassRaw</th>\n",
       "      <th>hard_court_elo_rating</th>\n",
       "      <th>clay_court_elo_rating</th>\n",
       "      <th>grass_court_elo_rating</th>\n",
       "      <th>Peak_Age</th>\n",
       "      <th>Peak_Elo</th>\n",
       "      <th>Rank</th>\n",
       "    </tr>\n",
       "  </thead>\n",
       "  <tbody>\n",
       "    <tr>\n",
       "      <th>missing_ratio</th>\n",
       "      <td>0.0</td>\n",
       "      <td>0.0</td>\n",
       "      <td>0.63857</td>\n",
       "      <td>0.383142</td>\n",
       "      <td>20.178799</td>\n",
       "      <td>0.0</td>\n",
       "      <td>0.0</td>\n",
       "      <td>0.0</td>\n",
       "      <td>0.0</td>\n",
       "      <td>0.0</td>\n",
       "      <td>0.0</td>\n",
       "    </tr>\n",
       "    <tr>\n",
       "      <th>min</th>\n",
       "      <td>15.5</td>\n",
       "      <td>1032.1</td>\n",
       "      <td>910.20000</td>\n",
       "      <td>908.500000</td>\n",
       "      <td>995.300000</td>\n",
       "      <td>1010.3</td>\n",
       "      <td>970.3</td>\n",
       "      <td>1124.1</td>\n",
       "      <td>15.0</td>\n",
       "      <td>1169.0</td>\n",
       "      <td>1.0</td>\n",
       "    </tr>\n",
       "    <tr>\n",
       "      <th>max</th>\n",
       "      <td>42.6</td>\n",
       "      <td>2185.2</td>\n",
       "      <td>2095.30000</td>\n",
       "      <td>2016.300000</td>\n",
       "      <td>1942.400000</td>\n",
       "      <td>2130.7</td>\n",
       "      <td>2100.8</td>\n",
       "      <td>2063.8</td>\n",
       "      <td>35.1</td>\n",
       "      <td>2470.0</td>\n",
       "      <td>396.0</td>\n",
       "    </tr>\n",
       "  </tbody>\n",
       "</table>\n",
       "</div>"
      ],
      "text/plain": [
       "                Age     Elo     HardRaw      ClayRaw     GrassRaw  \\\n",
       "missing_ratio   0.0     0.0     0.63857     0.383142    20.178799   \n",
       "min            15.5  1032.1   910.20000   908.500000   995.300000   \n",
       "max            42.6  2185.2  2095.30000  2016.300000  1942.400000   \n",
       "\n",
       "               hard_court_elo_rating  clay_court_elo_rating  \\\n",
       "missing_ratio                    0.0                    0.0   \n",
       "min                           1010.3                  970.3   \n",
       "max                           2130.7                 2100.8   \n",
       "\n",
       "               grass_court_elo_rating  Peak_Age  Peak_Elo   Rank  \n",
       "missing_ratio                     0.0       0.0       0.0    0.0  \n",
       "min                            1124.1      15.0    1169.0    1.0  \n",
       "max                            2063.8      35.1    2470.0  396.0  "
      ]
     },
     "execution_count": 8,
     "metadata": {},
     "output_type": "execute_result"
    }
   ],
   "source": [
    "num_col = tennis_df.columns.drop(['Player','Peak_Match','Gender'])\n",
    "def missing_ratio(col):\n",
    "    return col.isna().mean() * 100\n",
    "nume_col_player_df = tennis_df[num_col].agg([missing_ratio,pd.Series.min,pd.Series.max])\n",
    "nume_col_player_df\n"
   ]
  },
  {
   "cell_type": "markdown",
   "metadata": {},
   "source": [
    "### Are they abnormal?"
   ]
  },
  {
   "cell_type": "markdown",
   "metadata": {},
   "source": [
    "3 Cột HardRaw, ClayRaw,GrassRaw đều bị thiếu dữ liệu, nhưng mà 3 cột hard_court_elo_rating, clay_court_elo_rating, grass_court_elo_rating tương ứng thì lại không bị thiếu"
   ]
  },
  {
   "cell_type": "markdown",
   "metadata": {},
   "source": [
    "## With each categorical column, how are values distributed?"
   ]
  },
  {
   "cell_type": "code",
   "execution_count": 9,
   "metadata": {},
   "outputs": [
    {
     "data": {
      "text/html": [
       "<div>\n",
       "<style scoped>\n",
       "    .dataframe tbody tr th:only-of-type {\n",
       "        vertical-align: middle;\n",
       "    }\n",
       "\n",
       "    .dataframe tbody tr th {\n",
       "        vertical-align: top;\n",
       "    }\n",
       "\n",
       "    .dataframe thead th {\n",
       "        text-align: right;\n",
       "    }\n",
       "</style>\n",
       "<table border=\"1\" class=\"dataframe\">\n",
       "  <thead>\n",
       "    <tr style=\"text-align: right;\">\n",
       "      <th></th>\n",
       "      <th>Player</th>\n",
       "      <th>Peak_Match</th>\n",
       "      <th>Gender</th>\n",
       "    </tr>\n",
       "  </thead>\n",
       "  <tbody>\n",
       "    <tr>\n",
       "      <th>missing_ratio</th>\n",
       "      <td>0.0</td>\n",
       "      <td>0.0</td>\n",
       "      <td>0.0</td>\n",
       "    </tr>\n",
       "    <tr>\n",
       "      <th>num_diff_vals</th>\n",
       "      <td>783</td>\n",
       "      <td>722</td>\n",
       "      <td>2</td>\n",
       "    </tr>\n",
       "    <tr>\n",
       "      <th>diff_vals</th>\n",
       "      <td>[Riccardo Bonadio, Yulia Putintseva, Katharina...</td>\n",
       "      <td>[2021 Indian Wells Qual, 2021 Roland Garros Qu...</td>\n",
       "      <td>[Female, Male]</td>\n",
       "    </tr>\n",
       "  </tbody>\n",
       "</table>\n",
       "</div>"
      ],
      "text/plain": [
       "                                                          Player  \\\n",
       "missing_ratio                                                0.0   \n",
       "num_diff_vals                                                783   \n",
       "diff_vals      [Riccardo Bonadio, Yulia Putintseva, Katharina...   \n",
       "\n",
       "                                                      Peak_Match  \\\n",
       "missing_ratio                                                0.0   \n",
       "num_diff_vals                                                722   \n",
       "diff_vals      [2021 Indian Wells Qual, 2021 Roland Garros Qu...   \n",
       "\n",
       "                       Gender  \n",
       "missing_ratio             0.0  \n",
       "num_diff_vals               2  \n",
       "diff_vals      [Female, Male]  "
      ]
     },
     "execution_count": 9,
     "metadata": {},
     "output_type": "execute_result"
    }
   ],
   "source": [
    "cate_col = ['Player','Peak_Match','Gender']\n",
    "def num_diff_vals(col):\n",
    "    return len(col.value_counts())\n",
    "def diff_vals(col):\n",
    "    return col.value_counts().index.unique().to_numpy()\n",
    "\n",
    "cate_col_player_df = tennis_df[cate_col].agg([missing_ratio,num_diff_vals,diff_vals])\n",
    "cate_col_player_df"
   ]
  },
  {
   "cell_type": "markdown",
   "metadata": {},
   "source": [
    "### Are they abnormal?"
   ]
  },
  {
   "cell_type": "markdown",
   "metadata": {},
   "source": [
    "Không có tên vận động viên nào trùng nhau, giới tính chỉ có 2, còn giải đấu thì có một số vận động viên có thời đỉnh cao ở chung 1 giải nên chỉ có 722 giải. Theo em thì khá bình thường."
   ]
  },
  {
   "cell_type": "markdown",
   "metadata": {},
   "source": [
    "# 3. Asking meaningful questions\n",
    "## What is the question?"
   ]
  },
  {
   "cell_type": "markdown",
   "metadata": {},
   "source": [
    "Câu hỏi của thành viên 1 - Trương Chí Toàn - 19127587\n",
    "- Giới tính và tuổi tác có ảnh hưởng gì tới trình độ của vận động viên hay không?\n"
   ]
  },
  {
   "cell_type": "markdown",
   "metadata": {},
   "source": [
    "Câu hỏi của thành viên 2 - Phan Trung Hiếu - 19127404\n",
    "- Loại sân khác nhau có ảnh hưởng gì tới phong độ người chơi hay không?"
   ]
  },
  {
   "cell_type": "markdown",
   "metadata": {},
   "source": [
    "## What are benefits of finding the answer?"
   ]
  },
  {
   "cell_type": "markdown",
   "metadata": {},
   "source": [
    "1. Giới tính và tuổi tác có ảnh hưởng gì tới trình độ của vận động viên hay không?\n",
    "- Ta sẽ có cái nhìn trực quan hơn về trình độ của vận động viên khi ta thấy họ qua vẻ bề ngoài\n",
    " \n",
    "2. Loại sân khác nhau có ảnh hưởng gì tới phong độ người chơi hay không?\n",
    "- Khi biết được, ta sẽ biết được sân nào gây ảnh hưởng tới phong độ của người chơi mà lựa chọn sân thích hợp"
   ]
  },
  {
   "cell_type": "markdown",
   "metadata": {},
   "source": [
    "# 4. Preprocessing + analyzing data to answer each question"
   ]
  },
  {
   "cell_type": "markdown",
   "metadata": {},
   "source": [
    "## Does it need to have preprocessing step, and if yes, how does your group preprocess?"
   ]
  },
  {
   "cell_type": "markdown",
   "metadata": {},
   "source": [
    "Nhóm em sẽ thực hiện tiền xử lý dữ liệu như sau:\n",
    "- Điền lại vào các ô bị trống bằng cách từ công thức Elo = (HardRaw + hard_court_elo_rating)/2 em sẽ truy ngược ra lại giá trị bị thiếu\n",
    "- Làm tròn cột tuổi\n",
    "- Chia dataframe làm 2 phần, nam và nữ"
   ]
  },
  {
   "cell_type": "markdown",
   "metadata": {},
   "source": [
    "#### Điền giá trị thiếu"
   ]
  },
  {
   "cell_type": "code",
   "execution_count": 10,
   "metadata": {},
   "outputs": [
    {
     "data": {
      "text/html": [
       "<div>\n",
       "<style scoped>\n",
       "    .dataframe tbody tr th:only-of-type {\n",
       "        vertical-align: middle;\n",
       "    }\n",
       "\n",
       "    .dataframe tbody tr th {\n",
       "        vertical-align: top;\n",
       "    }\n",
       "\n",
       "    .dataframe thead th {\n",
       "        text-align: right;\n",
       "    }\n",
       "</style>\n",
       "<table border=\"1\" class=\"dataframe\">\n",
       "  <thead>\n",
       "    <tr style=\"text-align: right;\">\n",
       "      <th></th>\n",
       "      <th>Age</th>\n",
       "      <th>Elo</th>\n",
       "      <th>HardRaw</th>\n",
       "      <th>ClayRaw</th>\n",
       "      <th>GrassRaw</th>\n",
       "      <th>hard_court_elo_rating</th>\n",
       "      <th>clay_court_elo_rating</th>\n",
       "      <th>grass_court_elo_rating</th>\n",
       "      <th>Peak_Age</th>\n",
       "      <th>Peak_Elo</th>\n",
       "      <th>Rank</th>\n",
       "    </tr>\n",
       "  </thead>\n",
       "  <tbody>\n",
       "    <tr>\n",
       "      <th>missing_ratio</th>\n",
       "      <td>0.0</td>\n",
       "      <td>0.0</td>\n",
       "      <td>0.0</td>\n",
       "      <td>0.0</td>\n",
       "      <td>0.0</td>\n",
       "      <td>0.0</td>\n",
       "      <td>0.0</td>\n",
       "      <td>0.0</td>\n",
       "      <td>0.0</td>\n",
       "      <td>0.0</td>\n",
       "      <td>0.0</td>\n",
       "    </tr>\n",
       "    <tr>\n",
       "      <th>min</th>\n",
       "      <td>15.5</td>\n",
       "      <td>1032.1</td>\n",
       "      <td>910.2</td>\n",
       "      <td>908.5</td>\n",
       "      <td>995.3</td>\n",
       "      <td>1010.3</td>\n",
       "      <td>970.3</td>\n",
       "      <td>1124.1</td>\n",
       "      <td>15.0</td>\n",
       "      <td>1169.0</td>\n",
       "      <td>1.0</td>\n",
       "    </tr>\n",
       "    <tr>\n",
       "      <th>max</th>\n",
       "      <td>42.6</td>\n",
       "      <td>2185.2</td>\n",
       "      <td>2095.3</td>\n",
       "      <td>2016.3</td>\n",
       "      <td>1942.4</td>\n",
       "      <td>2130.7</td>\n",
       "      <td>2100.8</td>\n",
       "      <td>2063.8</td>\n",
       "      <td>35.1</td>\n",
       "      <td>2470.0</td>\n",
       "      <td>396.0</td>\n",
       "    </tr>\n",
       "  </tbody>\n",
       "</table>\n",
       "</div>"
      ],
      "text/plain": [
       "                Age     Elo  HardRaw  ClayRaw  GrassRaw  \\\n",
       "missing_ratio   0.0     0.0      0.0      0.0       0.0   \n",
       "min            15.5  1032.1    910.2    908.5     995.3   \n",
       "max            42.6  2185.2   2095.3   2016.3    1942.4   \n",
       "\n",
       "               hard_court_elo_rating  clay_court_elo_rating  \\\n",
       "missing_ratio                    0.0                    0.0   \n",
       "min                           1010.3                  970.3   \n",
       "max                           2130.7                 2100.8   \n",
       "\n",
       "               grass_court_elo_rating  Peak_Age  Peak_Elo   Rank  \n",
       "missing_ratio                     0.0       0.0       0.0    0.0  \n",
       "min                            1124.1      15.0    1169.0    1.0  \n",
       "max                            2063.8      35.1    2470.0  396.0  "
      ]
     },
     "execution_count": 10,
     "metadata": {},
     "output_type": "execute_result"
    }
   ],
   "source": [
    "def fill_missing_value(col):\n",
    "    index_of_missing_value = np.argwhere(tennis_df[col].isnull().to_numpy()==True)\n",
    "    index_of_need_col = int(np.argwhere(tennis_df.columns==col))\n",
    "    for index in index_of_missing_value:\n",
    "        tennis_df[col].iloc[index] = tennis_df.iloc[index,index_of_need_col+3] * 2 - tennis_df.Elo[index]\n",
    "    \n",
    "fill_missing_value('HardRaw')\n",
    "fill_missing_value('ClayRaw')\n",
    "fill_missing_value('GrassRaw')\n",
    "tennis_df[num_col].agg([missing_ratio,pd.Series.min,pd.Series.max])"
   ]
  },
  {
   "cell_type": "markdown",
   "metadata": {},
   "source": [
    "#### Làm tròn cột tuổi"
   ]
  },
  {
   "cell_type": "code",
   "execution_count": 11,
   "metadata": {},
   "outputs": [
    {
     "data": {
      "text/html": [
       "<div>\n",
       "<style scoped>\n",
       "    .dataframe tbody tr th:only-of-type {\n",
       "        vertical-align: middle;\n",
       "    }\n",
       "\n",
       "    .dataframe tbody tr th {\n",
       "        vertical-align: top;\n",
       "    }\n",
       "\n",
       "    .dataframe thead th {\n",
       "        text-align: right;\n",
       "    }\n",
       "</style>\n",
       "<table border=\"1\" class=\"dataframe\">\n",
       "  <thead>\n",
       "    <tr style=\"text-align: right;\">\n",
       "      <th></th>\n",
       "      <th>Player</th>\n",
       "      <th>Age</th>\n",
       "      <th>Elo</th>\n",
       "      <th>HardRaw</th>\n",
       "      <th>ClayRaw</th>\n",
       "      <th>GrassRaw</th>\n",
       "      <th>hard_court_elo_rating</th>\n",
       "      <th>clay_court_elo_rating</th>\n",
       "      <th>grass_court_elo_rating</th>\n",
       "      <th>Peak_Match</th>\n",
       "      <th>Peak_Age</th>\n",
       "      <th>Peak_Elo</th>\n",
       "      <th>Gender</th>\n",
       "      <th>Rank</th>\n",
       "    </tr>\n",
       "  </thead>\n",
       "  <tbody>\n",
       "    <tr>\n",
       "      <th>0</th>\n",
       "      <td>Novak Djokovic</td>\n",
       "      <td>34</td>\n",
       "      <td>2185.2</td>\n",
       "      <td>2068.0</td>\n",
       "      <td>2016.3</td>\n",
       "      <td>1942.4</td>\n",
       "      <td>2126.6</td>\n",
       "      <td>2100.8</td>\n",
       "      <td>2063.8</td>\n",
       "      <td>2016 Miami F</td>\n",
       "      <td>29</td>\n",
       "      <td>2470.0</td>\n",
       "      <td>Male</td>\n",
       "      <td>1</td>\n",
       "    </tr>\n",
       "    <tr>\n",
       "      <th>1</th>\n",
       "      <td>Daniil Medvedev</td>\n",
       "      <td>26</td>\n",
       "      <td>2166.2</td>\n",
       "      <td>2095.3</td>\n",
       "      <td>1714.1</td>\n",
       "      <td>1723.4</td>\n",
       "      <td>2130.7</td>\n",
       "      <td>1940.1</td>\n",
       "      <td>1944.8</td>\n",
       "      <td>2022 Atp Cup RR</td>\n",
       "      <td>26</td>\n",
       "      <td>2175.1</td>\n",
       "      <td>Male</td>\n",
       "      <td>2</td>\n",
       "    </tr>\n",
       "    <tr>\n",
       "      <th>2</th>\n",
       "      <td>Alexander Zverev</td>\n",
       "      <td>25</td>\n",
       "      <td>2141.3</td>\n",
       "      <td>2056.7</td>\n",
       "      <td>1999.1</td>\n",
       "      <td>1671.4</td>\n",
       "      <td>2099.0</td>\n",
       "      <td>2070.2</td>\n",
       "      <td>1906.4</td>\n",
       "      <td>2022 Atp Cup RR</td>\n",
       "      <td>25</td>\n",
       "      <td>2157.9</td>\n",
       "      <td>Male</td>\n",
       "      <td>3</td>\n",
       "    </tr>\n",
       "    <tr>\n",
       "      <th>3</th>\n",
       "      <td>Roger Federer</td>\n",
       "      <td>40</td>\n",
       "      <td>2043.0</td>\n",
       "      <td>1936.7</td>\n",
       "      <td>1749.6</td>\n",
       "      <td>1813.4</td>\n",
       "      <td>1989.8</td>\n",
       "      <td>1896.3</td>\n",
       "      <td>1928.2</td>\n",
       "      <td>2007 Dubai F</td>\n",
       "      <td>26</td>\n",
       "      <td>2382.0</td>\n",
       "      <td>Male</td>\n",
       "      <td>4</td>\n",
       "    </tr>\n",
       "    <tr>\n",
       "      <th>4</th>\n",
       "      <td>Carlos Alcaraz</td>\n",
       "      <td>18</td>\n",
       "      <td>2029.5</td>\n",
       "      <td>1906.3</td>\n",
       "      <td>1834.4</td>\n",
       "      <td>1441.4</td>\n",
       "      <td>1967.9</td>\n",
       "      <td>1932.0</td>\n",
       "      <td>1735.5</td>\n",
       "      <td>2021 NextGen Finals F</td>\n",
       "      <td>18</td>\n",
       "      <td>2029.5</td>\n",
       "      <td>Male</td>\n",
       "      <td>5</td>\n",
       "    </tr>\n",
       "  </tbody>\n",
       "</table>\n",
       "</div>"
      ],
      "text/plain": [
       "             Player  Age     Elo  HardRaw  ClayRaw  GrassRaw  \\\n",
       "0    Novak Djokovic   34  2185.2   2068.0   2016.3    1942.4   \n",
       "1   Daniil Medvedev   26  2166.2   2095.3   1714.1    1723.4   \n",
       "2  Alexander Zverev   25  2141.3   2056.7   1999.1    1671.4   \n",
       "3     Roger Federer   40  2043.0   1936.7   1749.6    1813.4   \n",
       "4    Carlos Alcaraz   18  2029.5   1906.3   1834.4    1441.4   \n",
       "\n",
       "   hard_court_elo_rating  clay_court_elo_rating  grass_court_elo_rating  \\\n",
       "0                 2126.6                 2100.8                  2063.8   \n",
       "1                 2130.7                 1940.1                  1944.8   \n",
       "2                 2099.0                 2070.2                  1906.4   \n",
       "3                 1989.8                 1896.3                  1928.2   \n",
       "4                 1967.9                 1932.0                  1735.5   \n",
       "\n",
       "              Peak_Match  Peak_Age  Peak_Elo Gender  Rank  \n",
       "0           2016 Miami F        29    2470.0   Male     1  \n",
       "1        2022 Atp Cup RR        26    2175.1   Male     2  \n",
       "2        2022 Atp Cup RR        25    2157.9   Male     3  \n",
       "3           2007 Dubai F        26    2382.0   Male     4  \n",
       "4  2021 NextGen Finals F        18    2029.5   Male     5  "
      ]
     },
     "execution_count": 11,
     "metadata": {},
     "output_type": "execute_result"
    }
   ],
   "source": [
    "tennis_df.Age = tennis_df.Age.apply(lambda x:round(x))\n",
    "tennis_df.Peak_Age = tennis_df.Peak_Age.apply(lambda x:round(x))\n",
    "tennis_df.head()\n"
   ]
  },
  {
   "cell_type": "markdown",
   "metadata": {},
   "source": [
    "#### Chia dataframe làm 2 phần, nam và nữ"
   ]
  },
  {
   "cell_type": "code",
   "execution_count": 12,
   "metadata": {},
   "outputs": [],
   "source": [
    "male = tennis_df.Gender.loc[lambda x: x == 'Male'].index[-1]\n",
    "female = tennis_df.Gender.loc[lambda x: x == 'Female'].index[0]\n",
    "tennis_male = tennis_df.loc[:male]\n",
    "tennis_female = tennis_df.loc[female:]\n"
   ]
  },
  {
   "cell_type": "markdown",
   "metadata": {},
   "source": [
    "Số lượng tuyển thủ nam, tuyển thủ nữ"
   ]
  },
  {
   "cell_type": "code",
   "execution_count": 13,
   "metadata": {},
   "outputs": [
    {
     "name": "stdout",
     "output_type": "stream",
     "text": [
      "Số lượng tuyển thủ nam 387\n",
      "Số lượng tuyển thủ nữ 396\n"
     ]
    }
   ],
   "source": [
    "print(\"Số lượng tuyển thủ nam {}\".format(len(tennis_male)))\n",
    "print(\"Số lượng tuyển thủ nữ {}\".format(len(tennis_female)))\n"
   ]
  },
  {
   "cell_type": "markdown",
   "metadata": {},
   "source": [
    "# Trả lời câu hỏi"
   ]
  },
  {
   "cell_type": "markdown",
   "metadata": {},
   "source": [
    "## 1.Giới tính và tuổi tác có ảnh hưởng gì tới trình độ của vận động viên hay không?\n"
   ]
  },
  {
   "cell_type": "markdown",
   "metadata": {},
   "source": [
    "Để trả lời câu hỏi trên, đầu tiên ta xét về giới tính trước. Ở đây ta sẽ vẽ box plot thể hiện giữa Elo và giới tính"
   ]
  },
  {
   "cell_type": "markdown",
   "metadata": {},
   "source": [
    "Boxplot thể hiện elo của vận động viên nam"
   ]
  },
  {
   "cell_type": "code",
   "execution_count": 29,
   "metadata": {},
   "outputs": [
    {
     "data": {
      "text/plain": [
       "count     387.000000\n",
       "mean     1579.065633\n",
       "std       187.304037\n",
       "min      1087.300000\n",
       "25%      1434.600000\n",
       "50%      1559.400000\n",
       "75%      1695.950000\n",
       "max      2185.200000\n",
       "Name: Elo, dtype: float64"
      ]
     },
     "execution_count": 29,
     "metadata": {},
     "output_type": "execute_result"
    },
    {
     "data": {
      "image/png": "[encoded data removed]",
      "text/plain": [
       "<Figure size 432x288 with 1 Axes>"
      ]
     },
     "metadata": {
      "needs_background": "light"
     },
     "output_type": "display_data"
    }
   ],
   "source": [
    "sns.boxplot(x=tennis_male['Elo'])\n",
    "tennis_male['Elo'].describe()"
   ]
  },
  {
   "cell_type": "markdown",
   "metadata": {},
   "source": [
    "Boxplot thể hiện elo của vận động viên nữ"
   ]
  },
  {
   "cell_type": "code",
   "execution_count": 15,
   "metadata": {},
   "outputs": [
    {
     "data": {
      "text/plain": [
       "count     396.000000\n",
       "mean     1548.454798\n",
       "std       201.259457\n",
       "min      1032.100000\n",
       "25%      1402.950000\n",
       "50%      1528.700000\n",
       "75%      1688.825000\n",
       "max      2132.000000\n",
       "Name: Elo, dtype: float64"
      ]
     },
     "execution_count": 15,
     "metadata": {},
     "output_type": "execute_result"
    },
    {
     "data": {
      "image/png": "[encoded data removed]",
      "text/plain": [
       "<Figure size 432x288 with 1 Axes>"
      ]
     },
     "metadata": {
      "needs_background": "light"
     },
     "output_type": "display_data"
    }
   ],
   "source": [
    "sns.boxplot(x=tennis_female['Elo'])\n",
    "tennis_female['Elo'].describe()"
   ]
  },
  {
   "cell_type": "markdown",
   "metadata": {},
   "source": [
    "Thể hiện 2 boxplot trên ở cùng 1 biểu đồ"
   ]
  },
  {
   "cell_type": "code",
   "execution_count": 16,
   "metadata": {},
   "outputs": [
    {
     "data": {
      "image/png": "[encoded data removed]",
      "text/plain": [
       "<Figure size 432x288 with 1 Axes>"
      ]
     },
     "metadata": {
      "needs_background": "light"
     },
     "output_type": "display_data"
    }
   ],
   "source": [
    "Elo_box_fm = sns.boxplot(x=tennis_df[\"Gender\"],y=tennis_df['Elo'])"
   ]
  },
  {
   "cell_type": "markdown",
   "metadata": {},
   "source": [
    "Hmm, dự đoán của em ban đầu là nam sẽ có trình độ trung bình cao hơn nữ, nhưng sau khi vẽ boxplot của cả 2, như ta thấy ở trên, boxplot của nam và nữ đều không quá khác biệt nhau. "
   ]
  },
  {
   "cell_type": "markdown",
   "metadata": {},
   "source": [
    "Số lượng tuyển thủ nam và nữ, elo mean, các khoảng tứ phân vị đều không quá cách biệt nhau, trừ 1 vài tuyển thủ nam có elo cao dẫn đầu ra thì có thể nói elo (trình độ) của nam và nữ đều khá là ngang nhau."
   ]
  },
  {
   "cell_type": "markdown",
   "metadata": {},
   "source": [
    "Chứng tỏ giới tính không hề ảnh hưởng tới trình độ của người chơi. Chỉ cần chăm chỉ tập luyện là đều có thể trở nên tốt hơn."
   ]
  },
  {
   "cell_type": "markdown",
   "metadata": {},
   "source": [
    "Tiếp theo, ta sẽ xem độ tuổi có ảnh hưởng gì tới trình độ người chơi hay không?"
   ]
  },
  {
   "cell_type": "markdown",
   "metadata": {},
   "source": [
    "Trước tiên, ta tính khoảng cách giữa độ tuổi hiện tại và độ tuổi khi ở thời đỉnh cao của các vận động viên"
   ]
  },
  {
   "cell_type": "code",
   "execution_count": 17,
   "metadata": {},
   "outputs": [
    {
     "data": {
      "text/plain": [
       "0     229\n",
       "1     104\n",
       "2     114\n",
       "3      76\n",
       "4      63\n",
       "5      56\n",
       "6      28\n",
       "7      23\n",
       "8      21\n",
       "9      13\n",
       "10     18\n",
       "11     15\n",
       "12     11\n",
       "13      6\n",
       "14      5\n",
       "20      1\n",
       "dtype: int64"
      ]
     },
     "execution_count": 17,
     "metadata": {},
     "output_type": "execute_result"
    }
   ],
   "source": [
    "tennis_Age_dis = tennis_df.Age-tennis_df.Peak_Age\n",
    "tennis_Age_sr = tennis_Age_dis.value_counts().sort_index()\n",
    "tennis_Age_sr"
   ]
  },
  {
   "cell_type": "markdown",
   "metadata": {},
   "source": [
    "Vẽ biểu đồ trực quan hóa"
   ]
  },
  {
   "cell_type": "code",
   "execution_count": 18,
   "metadata": {},
   "outputs": [
    {
     "data": {
      "image/png": "[encoded data removed]",
      "text/plain": [
       "<Figure size 432x288 with 1 Axes>"
      ]
     },
     "metadata": {
      "needs_background": "light"
     },
     "output_type": "display_data"
    }
   ],
   "source": [
    "tennis_Age_sr.plot.line()\n",
    "plt.title('Chênh lệch giữa độ tuổi hiện tại và độ tuổi khi ở thời đỉnh cao ')\n",
    "plt.show()"
   ]
  },
  {
   "cell_type": "markdown",
   "metadata": {},
   "source": [
    "Số vận động viên đang ở độ tuổi đỉnh cao chiếm đông nhất, sau đó giảm dần xuống những người đã qua tuổi đỉnh cao, khoảng cách càng lớn thì càng ít"
   ]
  },
  {
   "cell_type": "markdown",
   "metadata": {},
   "source": [
    "Tiếp theo, ta tính tiếp khoảng cách giữa elo hiện tại và elo khi ở thời đỉnh cao"
   ]
  },
  {
   "cell_type": "code",
   "execution_count": 19,
   "metadata": {},
   "outputs": [
    {
     "data": {
      "text/html": [
       "<div>\n",
       "<style scoped>\n",
       "    .dataframe tbody tr th:only-of-type {\n",
       "        vertical-align: middle;\n",
       "    }\n",
       "\n",
       "    .dataframe tbody tr th {\n",
       "        vertical-align: top;\n",
       "    }\n",
       "\n",
       "    .dataframe thead th {\n",
       "        text-align: right;\n",
       "    }\n",
       "</style>\n",
       "<table border=\"1\" class=\"dataframe\">\n",
       "  <thead>\n",
       "    <tr style=\"text-align: right;\">\n",
       "      <th></th>\n",
       "      <th>Elo dis</th>\n",
       "      <th>Number of player</th>\n",
       "    </tr>\n",
       "  </thead>\n",
       "  <tbody>\n",
       "    <tr>\n",
       "      <th>0</th>\n",
       "      <td>0.0</td>\n",
       "      <td>14</td>\n",
       "    </tr>\n",
       "    <tr>\n",
       "      <th>1</th>\n",
       "      <td>1.0</td>\n",
       "      <td>1</td>\n",
       "    </tr>\n",
       "    <tr>\n",
       "      <th>2</th>\n",
       "      <td>1.9</td>\n",
       "      <td>1</td>\n",
       "    </tr>\n",
       "    <tr>\n",
       "      <th>3</th>\n",
       "      <td>3.4</td>\n",
       "      <td>1</td>\n",
       "    </tr>\n",
       "    <tr>\n",
       "      <th>4</th>\n",
       "      <td>4.8</td>\n",
       "      <td>1</td>\n",
       "    </tr>\n",
       "    <tr>\n",
       "      <th>...</th>\n",
       "      <td>...</td>\n",
       "      <td>...</td>\n",
       "    </tr>\n",
       "    <tr>\n",
       "      <th>690</th>\n",
       "      <td>449.3</td>\n",
       "      <td>1</td>\n",
       "    </tr>\n",
       "    <tr>\n",
       "      <th>691</th>\n",
       "      <td>504.1</td>\n",
       "      <td>1</td>\n",
       "    </tr>\n",
       "    <tr>\n",
       "      <th>692</th>\n",
       "      <td>505.2</td>\n",
       "      <td>1</td>\n",
       "    </tr>\n",
       "    <tr>\n",
       "      <th>693</th>\n",
       "      <td>514.2</td>\n",
       "      <td>1</td>\n",
       "    </tr>\n",
       "    <tr>\n",
       "      <th>694</th>\n",
       "      <td>548.3</td>\n",
       "      <td>1</td>\n",
       "    </tr>\n",
       "  </tbody>\n",
       "</table>\n",
       "<p>695 rows × 2 columns</p>\n",
       "</div>"
      ],
      "text/plain": [
       "     Elo dis  Number of player\n",
       "0        0.0                14\n",
       "1        1.0                 1\n",
       "2        1.9                 1\n",
       "3        3.4                 1\n",
       "4        4.8                 1\n",
       "..       ...               ...\n",
       "690    449.3                 1\n",
       "691    504.1                 1\n",
       "692    505.2                 1\n",
       "693    514.2                 1\n",
       "694    548.3                 1\n",
       "\n",
       "[695 rows x 2 columns]"
      ]
     },
     "execution_count": 19,
     "metadata": {},
     "output_type": "execute_result"
    }
   ],
   "source": [
    "tennis_Elo_dis = tennis_df.Peak_Elo-tennis_df.Elo\n",
    "tennis_Elo_sr = tennis_Elo_dis.value_counts().sort_index()\n",
    "tennis_Elo_df = tennis_Elo_sr.to_frame().reset_index()\n",
    "tennis_Elo_df.rename(columns={\"index\":\"Elo dis\",0:'Number of player'},inplace=True)\n",
    "tennis_Elo_df"
   ]
  },
  {
   "cell_type": "markdown",
   "metadata": {},
   "source": [
    "Hmm, vì elo tính theo số thập phân thứ nhất nên có khá nhiều dòng, để cho dễ trực quan, ta sẽ gom lại số lượng khoảng cách elo trong range 100."
   ]
  },
  {
   "cell_type": "code",
   "execution_count": 20,
   "metadata": {},
   "outputs": [],
   "source": [
    "range_elo = []\n",
    "range_elo.append(tennis_Elo_df[tennis_Elo_df['Elo dis']<100]['Number of player'].to_numpy().sum())\n",
    "range_elo.append(tennis_Elo_df[(tennis_Elo_df['Elo dis']<200) & (tennis_Elo_df['Elo dis']>100) ]['Number of player'].to_numpy().sum())\n",
    "range_elo.append(tennis_Elo_df[(tennis_Elo_df['Elo dis']<300) & (tennis_Elo_df['Elo dis']>200) ]['Number of player'].to_numpy().sum())\n",
    "range_elo.append(tennis_Elo_df[(tennis_Elo_df['Elo dis']<400) & (tennis_Elo_df['Elo dis']>300) ]['Number of player'].to_numpy().sum())\n",
    "range_elo.append(tennis_Elo_df[tennis_Elo_df['Elo dis']>500]['Number of player'].to_numpy().sum())\n"
   ]
  },
  {
   "cell_type": "markdown",
   "metadata": {},
   "source": [
    "Vẽ biểu đồ trực quan"
   ]
  },
  {
   "cell_type": "code",
   "execution_count": 21,
   "metadata": {},
   "outputs": [
    {
     "data": {
      "image/png": "[encoded data removed]",
      "text/plain": [
       "<Figure size 432x288 with 1 Axes>"
      ]
     },
     "metadata": {
      "needs_background": "light"
     },
     "output_type": "display_data"
    }
   ],
   "source": [
    "df_range_elo = pd.DataFrame(data=range_elo,index=['0-100','100-200','200-300','300-400','500-...'])\n",
    "df_range_elo.rename(columns={0:'Elo dif'},inplace=True)\n",
    "df_range_elo.plot.line()\n",
    "plt.title('Chênh lệch giữa elo hiện tại và elo khi ở thời đỉnh cao ')\n",
    "plt.show()"
   ]
  },
  {
   "cell_type": "markdown",
   "metadata": {},
   "source": [
    "Như ta thấy, từ 2 biểu đồ trên, khoảng cách giữa độ chênh lệch tuổi giữa hiện tại với thời đỉnh cao và độ chênh lệch elo giữa hiện tại với thời đỉnh cao tỉ lệ thuận với nhau. "
   ]
  },
  {
   "cell_type": "markdown",
   "metadata": {},
   "source": [
    "Từ đó, ta kết luận rằng:\n",
    "- Giới tính không ảnh hưởng tới trình độ của vận động viên\n",
    "- Còn tuổi tác thì có ảnh hưởng"
   ]
  },
  {
   "cell_type": "markdown",
   "metadata": {},
   "source": [
    "## 2. Loại sân khác nhau có ảnh hưởng gì tới phong độ người chơi hay không?"
   ]
  },
  {
   "cell_type": "markdown",
   "metadata": {},
   "source": [
    "Đầu tiên ta sẽ vẽ biểu đồ so sánh sự khác nhau của elo trung bình trên từng loại sân "
   ]
  },
  {
   "cell_type": "code",
   "execution_count": 22,
   "metadata": {
    "scrolled": true
   },
   "outputs": [
    {
     "data": {
      "image/png": "[encoded data removed]",
      "text/plain": [
       "<Figure size 432x288 with 1 Axes>"
      ]
     },
     "metadata": {
      "needs_background": "light"
     },
     "output_type": "display_data"
    }
   ],
   "source": [
    "mean_hard = tennis_df['hard_court_elo_rating'].mean()\n",
    "mean_clay = tennis_df['clay_court_elo_rating'].mean()\n",
    "mean_grass = tennis_df['grass_court_elo_rating'].mean()\n",
    "\n",
    "plt.barh(['Sân cứng', 'Sân đất', 'Sân cỏ'], [mean_hard, mean_clay, mean_grass])\n",
    "plt.xlabel('Elo trung bình')\n",
    "plt.show()"
   ]
  },
  {
   "cell_type": "markdown",
   "metadata": {},
   "source": [
    "Nhận xét: Sự khác biệt lớn nhất của phong độ người chơi là nằm ở sân cứng và sân cỏ, có vẻ như ở sân cứng thì các tuyển thủ sẽ thi đấu tốt hơn so với sân cỏ"
   ]
  },
  {
   "cell_type": "markdown",
   "metadata": {},
   "source": [
    "Tìm ra người chơi nam tốt nhất ở sân cứng, rank của họ, người chơi tốt nhất và rank của họ để có cái nhìn nhận trực quan về sự \"đồng biến\" giữa trình độ sân cứng, trình độ chung cũng như xếp hạng của họ"
   ]
  },
  {
   "cell_type": "code",
   "execution_count": 23,
   "metadata": {},
   "outputs": [
    {
     "data": {
      "text/plain": [
       "('Daniil Medvedev', 1, 'Novak Djokovic', '0')"
      ]
     },
     "execution_count": 23,
     "metadata": {},
     "output_type": "execute_result"
    }
   ],
   "source": [
    "#người chơi nam tốt nhất ở sân cứng \n",
    "best_man_hard_index = tennis_male['hard_court_elo_rating'].argmax()\n",
    "best_man_hard_name = tennis_male.iloc[best_man_hard_index]['Player']\n",
    "best_man = tennis_male.iloc[0]['Player']\n",
    "str(best_man_hard_name).replace(\"\\xa0\", \" \"), best_man_hard_index, str(best_man).replace(\"\\xa0\", \" \"), \"0\"\n"
   ]
  },
  {
   "cell_type": "markdown",
   "metadata": {},
   "source": [
    "Làm tương tự với các player nữ"
   ]
  },
  {
   "cell_type": "code",
   "execution_count": 24,
   "metadata": {},
   "outputs": [
    {
     "data": {
      "text/plain": [
       "('Ashleigh Barty', 0, 'Ashleigh Barty', '0')"
      ]
     },
     "execution_count": 24,
     "metadata": {},
     "output_type": "execute_result"
    }
   ],
   "source": [
    "#người chơi nữ tốt nhất ở sân cứng\n",
    "best_female_hard_index = tennis_female['hard_court_elo_rating'].argmax()\n",
    "best_female_hard_name = tennis_female.iloc[best_female_hard_index]['Player']\n",
    "best_female = tennis_female.iloc[0]['Player']\n",
    "str(best_female_hard_name).replace(\"\\xa0\", \" \"), best_female_hard_index, str(best_female).replace(\"\\xa0\", \" \"), \"0\""
   ]
  },
  {
   "cell_type": "markdown",
   "metadata": {},
   "source": [
    "Nhận xét: với cả nam lẫn nữ, thì nếu có elo thi đấu ở sân cứng cao thì khả năng elo trung bình cũng cao và kéo theo cả rank"
   ]
  },
  {
   "cell_type": "markdown",
   "metadata": {},
   "source": [
    "Tính tỉ lệ các tuyển thủ có chỉ số elo đấu sân cứng tốt hơn so với sân cỏ và tỉ lệ đó so với top 50 của từng giới tính"
   ]
  },
  {
   "cell_type": "code",
   "execution_count": 25,
   "metadata": {},
   "outputs": [
    {
     "data": {
      "text/plain": [
       "(0.6219667943805874, 0.9, 0.96)"
      ]
     },
     "execution_count": 25,
     "metadata": {},
     "output_type": "execute_result"
    }
   ],
   "source": [
    "#tỉ lệ các tuyển thủ có chỉ số elo đấu sân cứng tốt hơn so với sân cỏ\n",
    "hard_vs_grass = np.average(tennis_df['HardRaw'].to_numpy()>tennis_df['GrassRaw'].to_numpy())\n",
    "#tỉ lệ các tuyển thủ nam nằm trong top 50 có chỉ số elo đấu sân cứng tốt hơn so với sân cỏ\n",
    "hard_vs_grass_top_man = np.average(tennis_male['HardRaw'].to_numpy()[:50]>tennis_male['GrassRaw'].to_numpy()[:50])\n",
    "#tỉ lệ các tuyển thủ nữ nằm trong top 50 có chỉ số elo đấu sân cứng tốt hơn so với sân cỏ\n",
    "hard_vs_grass_top_female = np.average(tennis_female['HardRaw'].to_numpy()[:50]>tennis_female['GrassRaw'].to_numpy()[:50])\n",
    "\n",
    "hard_vs_grass, hard_vs_grass_top_man, hard_vs_grass_top_female"
   ]
  },
  {
   "cell_type": "markdown",
   "metadata": {},
   "source": [
    "Nhận xét : rõ ràng đa số tuyển thủ đều có elo cao ở những trận đấu sân cứng, và với những tuyển thủ top cao(50) thì điều đó\n",
    "càng rõ ràng hơn \n",
    "\n",
    "*Kết luận: Loại sân có ảnh hưởng nhiều đến kết quả thi đấu cũng như phong độ của tuyển thủ\n"
   ]
  },
  {
   "cell_type": "markdown",
   "metadata": {},
   "source": [
    "Góp ý của thành viên nhóm khác: \"mình cũng là một người thích xem quần vợt thì mình có thấy một số điều như là hầu như có rất nhiều giải làm trên mặt sân cứng (khoảng 40) và rất ít giải làm trên sân cỏ (khoảng 7 cho nam) thì điều này có làm ảnh hưởng gì tới kết quả không, và mình thấy hầu như các vận động viên hàng đầu có rất nhiều người đánh sân đất nện hơn là sân cứng\""
   ]
  },
  {
   "cell_type": "markdown",
   "metadata": {},
   "source": [
    "*Trả lời : Có vẻ như góp ý của bạn là đúng, các giải đấu tổ chức bằng sân cỏ khá ít dẫn tới việc missing value ở cột GrassRaw là khá nhiều (20%). Tuy nhiên thì phần dữ liệu cũng không nêu rõ là một tuyển thủ có bao nhiệu trận sân cứng, bao nhiêu trận sân cỏ cũng như tỉ lệ thắng thua ở đó ra sao nên khó đểp phân tích chuyên sâu vào vấn đề này. Một ý nữa mà mình đã đề cập ở trên là với những tuyển thủ có elo ở sân cứng tốt hơn elo ở sân cỏ thì thường có thứ hạng cao. Nên việc có ít giải sân cỏ, theo quan điểm của mình là nó không ảnh hưởng đến trình độ cũng như phong độ của tuyển thủ, cụ thể chính là thứ hạng của họ"
   ]
  },
  {
   "cell_type": "markdown",
   "metadata": {},
   "source": [
    "# 5. Reflection"
   ]
  },
  {
   "cell_type": "markdown",
   "metadata": {},
   "source": [
    "## Each member: What difficulties have you encountered?"
   ]
  },
  {
   "cell_type": "markdown",
   "metadata": {},
   "source": [
    "Trương Chí Toàn:\n",
    "- Làm nhiều đồ án khiến cho nên thời gian khá hạn hẹp\n",
    "- Phải dựa vào thông tin sẵn có để chọn biểu đồ thích hợp\n",
    "\n",
    "Phan Trung Hiếu:\n",
    "- Kì vừa rồi em học khá nhiều môn và việc cuối kì dồn nhiều đồ án + với việc thi lý thuyết thực sự rất khó khăn\n",
    "- Đại dịch học ở nhà hơn nửa năm làm em khá uể oải, mong rằng kì sau sẽ được lên trường học tập để có động lực hơn"
   ]
  },
  {
   "cell_type": "markdown",
   "metadata": {},
   "source": [
    "## Each member: What have you learned? "
   ]
  },
  {
   "cell_type": "markdown",
   "metadata": {},
   "source": [
    "Trương Chí Toàn:\n",
    "- Học được cách sử dụng seaborn một cách hiệu quả\n",
    "- Cách thu thập dữ liệu một cách dễ dàng\n",
    "- Học được nhiều dạng biểu đồ khác nhau mà lựa chọn ra những biểu đồ phù hợp với trường dữ liệu"
   ]
  },
  {
   "cell_type": "markdown",
   "metadata": {},
   "source": [
    "Phan Trung Hiếu: \n",
    "- Em nhận ra rằng việc tự mình đặt ra một câu hỏi mang một ý nghĩa nào đó có ích trong KHDL thật sự rất khó khăn\n",
    "- Có nhiều loại biểu đồ, phải chọn được biểu đồ phù hợp nhất để mô tả câu trả lời\n",
    "- Nên chọn các file dữ liệu ít có dấu \" \" vì dễ gặp lỗi Encoding trong quá trình đọc file cũng như xử lý và hiển thị dữ liệu"
   ]
  },
  {
   "cell_type": "markdown",
   "metadata": {},
   "source": [
    "## Your group: If you had more time, what would you do?"
   ]
  },
  {
   "cell_type": "markdown",
   "metadata": {},
   "source": [
    "- Bọn em sẽ chọn bộ dữ liệu phức tạp hơn cái này\n",
    "- Nhiều dữ liệu đồng nghĩa với nhiều thứ để hỏi hơn, câu hỏi phức tạp hơn, mang nhiều lợi ích hơn\n",
    "- Áp dụng được machine learning để build được model để dự đoán thuộc tính của data"
   ]
  },
  {
   "cell_type": "markdown",
   "metadata": {},
   "source": [
    "# 6. References"
   ]
  },
  {
   "cell_type": "markdown",
   "metadata": {},
   "source": [
    "1. [Seaborn documentation](https://seaborn.pydata.org/examples/index.html)\n",
    "2. [StackOverflow](https://stackoverflow.com/)\n",
    "3. [Kaggle](https://kaggle.com/)\n",
    "4. [Tennisabstract](https://tennisabstract.com/reports/atp_elo_ratings.html)\n",
    "5. [Matplotlib documentation](https://matplotlib.org/)\n",
    "6. [Pandas documentation](https://pandas.pydata.org/)"
   ]
  }
 ],
 "metadata": {
  "kernelspec": {
   "display_name": "Python 3 (ipykernel)",
   "language": "python",
   "name": "python3"
  },
  "language_info": {
   "codemirror_mode": {
    "name": "ipython",
    "version": 3
   },
   "file_extension": ".py",
   "mimetype": "text/x-python",
   "name": "python",
   "nbconvert_exporter": "python",
   "pygments_lexer": "ipython3",
   "version": "3.8.8"
  }
 },
 "nbformat": 4,
 "nbformat_minor": 2
}
